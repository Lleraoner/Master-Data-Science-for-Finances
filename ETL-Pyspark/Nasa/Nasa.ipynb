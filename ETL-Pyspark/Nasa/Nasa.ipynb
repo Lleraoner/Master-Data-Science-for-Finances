{
 "cells": [
  {
   "cell_type": "markdown",
   "metadata": {},
   "source": [
    "## PRÁCTICA 1"
   ]
  },
  {
   "cell_type": "markdown",
   "metadata": {},
   "source": [
    "Cargamos nuestro entorno"
   ]
  },
  {
   "cell_type": "code",
   "execution_count": 1,
   "metadata": {
    "collapsed": false
   },
   "outputs": [],
   "source": [
    "from pyspark import SparkContext\n",
    "sc = SparkContext()\n"
   ]
  },
  {
   "cell_type": "code",
   "execution_count": 2,
   "metadata": {
    "collapsed": true
   },
   "outputs": [],
   "source": [
    "# DEFINIMOS PRIMERAMENTE NUESTRAS VARIABLES\n",
    "#0 ESLA URL \n",
    "# 1 NO ES NADA \n",
    "#2 NO ES NADA \n",
    "#3 ES LA FECHA QUE HABRÁ QUE CONVERTIR, \n",
    "#4 NO LO SE \n",
    "#5 PROTOCOLO DE RESPUESTA: GET Y POST \n",
    "#6 URL DEL ARCHIVO\n",
    "#7 Código de respuesta\n",
    "#8 Http status\n",
    "#9 Tamaño\n"
   ]
  },
  {
   "cell_type": "code",
   "execution_count": 3,
   "metadata": {
    "collapsed": false
   },
   "outputs": [],
   "source": [
    "import urllib\n",
    "f = urllib.urlretrieve(\"https://www.dropbox.com/s/73wr8xb5s6fdj7g/apache.access.log.PROJECT?dl=1\", \"apache.access.log.PROJECT\")"
   ]
  },
  {
   "cell_type": "code",
   "execution_count": 2,
   "metadata": {
    "collapsed": false
   },
   "outputs": [],
   "source": [
    "#Cargamos y definimos nuestro data\n",
    "data_file = \"./apache.access.log.PROJECT\"\n",
    "raw_data = sc.textFile(data_file)"
   ]
  },
  {
   "cell_type": "markdown",
   "metadata": {},
   "source": [
    "Ya hemos cargado nuestro data, hemos intentado cargarlo con la ruta completa, pero el docker notiene acceso a \n",
    "Todas nuestras carpetas Con el small, pero como no podemos cargar un archivo de mas de 25mb lo cargamos de dropbx"
   ]
  },
  {
   "cell_type": "code",
   "execution_count": 3,
   "metadata": {
    "collapsed": false,
    "scrolled": true
   },
   "outputs": [
    {
     "data": {
      "text/plain": [
       "1043177"
      ]
     },
     "execution_count": 3,
     "metadata": {},
     "output_type": "execute_result"
    }
   ],
   "source": [
    "##Contamos el numero de datos para explorar los datos\n",
    "raw_data.count() "
   ]
  },
  {
   "cell_type": "code",
   "execution_count": 6,
   "metadata": {
    "collapsed": false
   },
   "outputs": [
    {
     "data": {
      "text/plain": [
       "[u'in24.inetnebr.com - - [01/Aug/1995:00:00:01 -0400] \"GET /shuttle/missions/sts-68/news/sts-68-mcc-05.txt HTTP/1.0\" 200 1839',\n",
       " u'uplherc.upl.com - - [01/Aug/1995:00:00:07 -0400] \"GET / HTTP/1.0\" 304 0',\n",
       " u'uplherc.upl.com - - [01/Aug/1995:00:00:08 -0400] \"GET /images/ksclogo-medium.gif HTTP/1.0\" 304 0',\n",
       " u'uplherc.upl.com - - [01/Aug/1995:00:00:08 -0400] \"GET /images/MOSAIC-logosmall.gif HTTP/1.0\" 304 0',\n",
       " u'uplherc.upl.com - - [01/Aug/1995:00:00:08 -0400] \"GET /images/USA-logosmall.gif HTTP/1.0\" 304 0']"
      ]
     },
     "execution_count": 6,
     "metadata": {},
     "output_type": "execute_result"
    }
   ],
   "source": [
    "##Realizamos la exploración de los datos\n",
    "raw_data.take(5)"
   ]
  },
  {
   "cell_type": "code",
   "execution_count": 7,
   "metadata": {
    "collapsed": false
   },
   "outputs": [
    {
     "data": {
      "text/plain": [
       "[[u'in24.inetnebr.com',\n",
       "  u'0',\n",
       "  u'0',\n",
       "  u'[01/Aug/1995:00:00:01',\n",
       "  u'00400]',\n",
       "  u'\"GET',\n",
       "  u'/shuttle/missions/sts-68/news/sts-68-mcc-05.txt',\n",
       "  u'HTTP/1.0\"',\n",
       "  u'200',\n",
       "  u'1839']]"
      ]
     },
     "execution_count": 7,
     "metadata": {},
     "output_type": "execute_result"
    }
   ],
   "source": [
    "##Ahora definimos nuestro archivo limpio, que seguira siendo un rdd\n",
    "\n",
    "data_clean = raw_data.map(lambda x: x.replace(' -', ' 0')).map(lambda x: x.split(\" \"))\n",
    "\n",
    "data_clean.take(1)\n"
   ]
  },
  {
   "cell_type": "markdown",
   "metadata": {},
   "source": [
    "EJERCICIO 1"
   ]
  },
  {
   "cell_type": "code",
   "execution_count": 8,
   "metadata": {
    "collapsed": false
   },
   "outputs": [
    {
     "data": {
      "text/plain": [
       "3421948"
      ]
     },
     "execution_count": 8,
     "metadata": {},
     "output_type": "execute_result"
    }
   ],
   "source": [
    "##Calculamos el máximo \n",
    "data_clean.map(lambda x: int(x[-1])).max()\n"
   ]
  },
  {
   "cell_type": "code",
   "execution_count": 9,
   "metadata": {
    "collapsed": false
   },
   "outputs": [
    {
     "data": {
      "text/plain": [
       "0"
      ]
     },
     "execution_count": 9,
     "metadata": {},
     "output_type": "execute_result"
    }
   ],
   "source": [
    "##Calculamos el mínimo\n",
    "data_clean.map(lambda x: int(x[-1])).min()"
   ]
  },
  {
   "cell_type": "code",
   "execution_count": 10,
   "metadata": {
    "collapsed": false
   },
   "outputs": [
    {
     "data": {
      "text/plain": [
       "17531.55570243611"
      ]
     },
     "execution_count": 10,
     "metadata": {},
     "output_type": "execute_result"
    }
   ],
   "source": [
    "##Calculamos la media\n",
    "\n",
    "data_clean.map(lambda x: int(x[-1])).mean()"
   ]
  },
  {
   "cell_type": "markdown",
   "metadata": {},
   "source": [
    "NUMERO DE PETICIONES POR CADA CODIGO DE RESPUESTA"
   ]
  },
  {
   "cell_type": "code",
   "execution_count": 11,
   "metadata": {
    "collapsed": false
   },
   "outputs": [
    {
     "data": {
      "text/plain": [
       "PythonRDD[8] at RDD at PythonRDD.scala:48"
      ]
     },
     "execution_count": 11,
     "metadata": {},
     "output_type": "execute_result"
    }
   ],
   "source": [
    "##Ahora el ejercicio 2###############\n",
    "# para el mismo se nos genera una tupla, todos los fallos con el número establecido\n",
    "\n",
    "data_clean.map(lambda y: (int(y[-2]), 1)) "
   ]
  },
  {
   "cell_type": "code",
   "execution_count": 12,
   "metadata": {
    "collapsed": false
   },
   "outputs": [],
   "source": [
    "##Importamos las librerias necesarias.\n",
    "from operator import add\n"
   ]
  },
  {
   "cell_type": "code",
   "execution_count": 13,
   "metadata": {
    "collapsed": false
   },
   "outputs": [],
   "source": [
    "##Y ahora aplizamos el mapreduce, y que nos lo ordene de manera ascendente en función de su key que e\n",
    "cod_response =data_clean.map(lambda y: (int(y[-2]), 1)).reduceByKey(add).sortByKey(ascending= True)"
   ]
  },
  {
   "cell_type": "code",
   "execution_count": 14,
   "metadata": {
    "collapsed": false
   },
   "outputs": [
    {
     "data": {
      "text/plain": [
       "[(200, 940847), (302, 16244), (304, 79824), (403, 58), (404, 6185)]"
      ]
     },
     "execution_count": 14,
     "metadata": {},
     "output_type": "execute_result"
    }
   ],
   "source": [
    "cod_response.take(5)"
   ]
  },
  {
   "cell_type": "markdown",
   "metadata": {
    "collapsed": true
   },
   "source": [
    "EJERCICIO 3\n",
    "- Mostrar 20 hosts que han sido visitados mas de 10 veces\n",
    "- Definimos la vaiable sin grupar bajo el critero de mapeo de la primera columna"
   ]
  },
  {
   "cell_type": "code",
   "execution_count": 15,
   "metadata": {
    "collapsed": true
   },
   "outputs": [],
   "source": [
    "##Para el EJERCICIO 3 vamos a aplicar un filter, mostrar los 20 hosts, visitados mas de 10 veces"
   ]
  },
  {
   "cell_type": "code",
   "execution_count": 16,
   "metadata": {
    "collapsed": false
   },
   "outputs": [],
   "source": [
    "\n",
    "hosts = data_clean.map(lambda y: (y[0], 1))\n",
    "#ahora realizamos la reducción, y ordenación, y por último un filtro sobre la 2 columna que es la de conteo, ya que el filter\n",
    "#Se aplica a el nuevo rdd creado por el map.\n",
    "agrupation = hosts.reduceByKey(add).sortByKey().filter(lambda x: x[-1] > 10)\n",
    "\n"
   ]
  },
  {
   "cell_type": "code",
   "execution_count": 17,
   "metadata": {
    "collapsed": false
   },
   "outputs": [
    {
     "data": {
      "text/plain": [
       "[(u'***.novo.dk', 16),\n",
       " (u'03-dynamic-c.wokingham.luna.net', 39),\n",
       " (u'05-dynamic-c.wokingham.luna.net', 25),\n",
       " (u'0875pr3e.pro.rpslmc.edu', 16),\n",
       " (u'1.ts1.mnet.medstroms.se', 32),\n",
       " (u'10.ts2.mnet.medstroms.se', 15),\n",
       " (u'101.irri.cgiar.org', 17),\n",
       " (u'1032015.ksc.nasa.gov', 90),\n",
       " (u'10forward.ppp.america.com', 18),\n",
       " (u'10md423.uni-duisburg.de', 39),\n",
       " (u'118.32.med.umich.edu', 15),\n",
       " (u'12.ts2.mnet.medstroms.se', 25),\n",
       " (u'120.33.med.umich.edu', 14),\n",
       " (u'128.100.180.37', 15),\n",
       " (u'128.100.183.252', 13),\n",
       " (u'128.100.183.253', 36),\n",
       " (u'128.100.191.43', 31),\n",
       " (u'128.100.197.90', 16),\n",
       " (u'128.100.8.177', 40),\n",
       " (u'128.101.13.25', 15)]"
      ]
     },
     "execution_count": 17,
     "metadata": {},
     "output_type": "execute_result"
    }
   ],
   "source": [
    "##Ahora realizamos la agrupación de 20 host con mas de 10 visitas.\n",
    "agrupation.take(20)"
   ]
  },
  {
   "cell_type": "markdown",
   "metadata": {},
   "source": [
    "Ejercicio 4\n",
    "- Encuentra los 10 endpoints maximos"
   ]
  },
  {
   "cell_type": "code",
   "execution_count": 18,
   "metadata": {
    "collapsed": false
   },
   "outputs": [],
   "source": [
    "\n",
    "endpoint = data_clean.map(lambda y: (y[6], 1))"
   ]
  },
  {
   "cell_type": "code",
   "execution_count": 19,
   "metadata": {
    "collapsed": false
   },
   "outputs": [
    {
     "data": {
      "text/plain": [
       "[(u'/images/NASA-logosmall.gif', 59666),\n",
       " (u'/images/KSC-logosmall.gif', 50420),\n",
       " (u'/images/MOSAIC-logosmall.gif', 43831),\n",
       " (u'/images/USA-logosmall.gif', 43604),\n",
       " (u'/images/WORLD-logosmall.gif', 43217),\n",
       " (u'/images/ksclogo-medium.gif', 41267),\n",
       " (u'/ksc.html', 28536),\n",
       " (u'/history/apollo/images/apollo-logo1.gif', 26766),\n",
       " (u'/images/launch-logo.gif', 24742),\n",
       " (u'/', 20175)]"
      ]
     },
     "execution_count": 19,
     "metadata": {},
     "output_type": "execute_result"
    }
   ],
   "source": [
    "##Aplicamos el reduce, luego lo ordenamos en el 2 valor de la tupla que es el contador, que nos lo ponga en orden descendiente, y que nos saque los 10 primeros.\n",
    "\n",
    "top10endpoints = endpoint.reduceByKey(add).sortBy(lambda x: x[1], ascending = False).take(10)\n",
    "top10endpoints"
   ]
  },
  {
   "cell_type": "markdown",
   "metadata": {},
   "source": [
    "Ejercicio 5\n",
    "- Top 10 de endpoints visitados sin el código de respuesta 200"
   ]
  },
  {
   "cell_type": "code",
   "execution_count": 20,
   "metadata": {
    "collapsed": false
   },
   "outputs": [],
   "source": [
    "endpointno200 = data_clean.map(lambda y: (y[6], int(y[-2])))"
   ]
  },
  {
   "cell_type": "code",
   "execution_count": 21,
   "metadata": {
    "collapsed": false,
    "scrolled": true
   },
   "outputs": [
    {
     "data": {
      "text/plain": [
       "[(u'/', 304),\n",
       " (u'/images/ksclogo-medium.gif', 304),\n",
       " (u'/images/MOSAIC-logosmall.gif', 304),\n",
       " (u'/images/USA-logosmall.gif', 304),\n",
       " (u'/images/WORLD-logosmall.gif', 304),\n",
       " (u'/images/NASA-logosmall.gif', 304),\n",
       " (u'/images/NASA-logosmall.gif', 304),\n",
       " (u'/images/MOSAIC-logosmall.gif', 304),\n",
       " (u'/images/USA-logosmall.gif', 304),\n",
       " (u'/images/WORLD-logosmall.gif', 304)]"
      ]
     },
     "execution_count": 21,
     "metadata": {},
     "output_type": "execute_result"
    }
   ],
   "source": [
    "\n",
    "no_200 = endpointno200.filter(lambda x: x[1] != 200).take(10)\n",
    "no_200"
   ]
  },
  {
   "cell_type": "markdown",
   "metadata": {},
   "source": [
    "EJERCICIO 6 \n",
    "- Este es el número de hosts distintos"
   ]
  },
  {
   "cell_type": "code",
   "execution_count": 22,
   "metadata": {
    "collapsed": false,
    "scrolled": true
   },
   "outputs": [
    {
     "data": {
      "text/plain": [
       "54507"
      ]
     },
     "execution_count": 22,
     "metadata": {},
     "output_type": "execute_result"
    }
   ],
   "source": [
    "data_clean.map(lambda y: (y[0])).distinct().count()"
   ]
  },
  {
   "cell_type": "code",
   "execution_count": 23,
   "metadata": {
    "collapsed": false
   },
   "outputs": [],
   "source": [
    "##Carga del nuevo contexto SQL\n",
    "from pyspark.sql import Row, SQLContext\n",
    "from pyspark.sql.functions import *\n",
    "sqlContext = SQLContext(sc)"
   ]
  },
  {
   "cell_type": "markdown",
   "metadata": {},
   "source": [
    "EJERCICIO 7\n",
    "- Calcular el numero de host unicos cada dia"
   ]
  },
  {
   "cell_type": "code",
   "execution_count": 24,
   "metadata": {
    "collapsed": false
   },
   "outputs": [
    {
     "name": "stdout",
     "output_type": "stream",
     "text": [
      "+-----------+--------------+\n",
      "|Dia del mes|Host distintos|\n",
      "+-----------+--------------+\n",
      "|          1|          2582|\n",
      "|          3|          3222|\n",
      "|          4|          4190|\n",
      "|          5|          2502|\n",
      "|          6|          2537|\n",
      "|          7|          4106|\n",
      "|          8|          4406|\n",
      "|          9|          4317|\n",
      "|         10|          4523|\n",
      "|         11|          4346|\n",
      "|         12|          2864|\n",
      "|         13|          2650|\n",
      "|         14|          4454|\n",
      "|         15|          4214|\n",
      "|         16|          4340|\n",
      "|         17|          4385|\n",
      "|         18|          4168|\n",
      "|         19|          2550|\n",
      "|         20|          2560|\n",
      "|         21|          4134|\n",
      "+-----------+--------------+\n",
      "only showing top 20 rows\n",
      "\n"
     ]
    }
   ],
   "source": [
    "row_data = data_clean.map(lambda p: Row(host = p[0], UserId = int(p[1]), empty = p[2],\n",
    "    fechas = p[3],get_post = p[4],endpoint = p[6],version = p[7],status_Code = int(p[-2]),size = p[-1]))\n",
    "\n",
    "interactions_df = sqlContext.createDataFrame(row_data)\n",
    "\n",
    "newdata_clean = interactions_df.withColumn('fechas', regexp_replace('fechas', '\\[', ''))\n",
    "\n",
    "newdata_clean2 = newdata_clean.withColumn('fechas', regexp_replace('fechas', 'Aug', '08'))\n",
    "\n",
    "newdata_clean3 = newdata_clean2.select(from_unixtime(unix_timestamp('fechas', 'dd/MM/yyyy:hh:mm:ss')).alias('fechas'), 'host')\n",
    "\n",
    "newdata_clean4 = newdata_clean3.na.fill(0)\n",
    "\n",
    "#Muestra los host distintos de cada día del mes de Agosto\n",
    "newdata_clean4.groupby(dayofmonth(\"fechas\").alias(\"Dia del mes\")).agg(countDistinct('host').alias('Host distintos')).sort('Dia del mes')\\\n",
    "        .show()"
   ]
  },
  {
   "cell_type": "markdown",
   "metadata": {},
   "source": [
    "Ejercicio 8\n",
    "- Peticiones diarias por host"
   ]
  },
  {
   "cell_type": "code",
   "execution_count": 25,
   "metadata": {
    "collapsed": false
   },
   "outputs": [
    {
     "name": "stdout",
     "output_type": "stream",
     "text": [
      "+----------+-----------------------+\n",
      "|      Date|Peticiones_diarias_host|\n",
      "+----------+-----------------------+\n",
      "|1995-08-01|     13.166537567776917|\n",
      "|1995-08-03|     12.845127250155183|\n",
      "|1995-08-04|     14.213365155131266|\n",
      "|1995-08-05|     12.745003996802557|\n",
      "|1995-08-06|     12.777296018919984|\n",
      "|1995-08-07|     13.968582562104238|\n",
      "|1995-08-08|     13.650022696323196|\n",
      "|1995-08-09|      14.00440120454019|\n",
      "|1995-08-10|     13.540791510059695|\n",
      "|1995-08-11|     14.091578462954441|\n",
      "+----------+-----------------------+\n",
      "only showing top 10 rows\n",
      "\n"
     ]
    }
   ],
   "source": [
    "##### EJERCICIO 8 #####\n",
    "# Calcular la media de peticiones diarias por host\n",
    "\n",
    "parsed_df2 = newdata_clean4.withColumn(\"month\", month(col(\"fechas\"))).\\\n",
    "                                   withColumn(\"DayOfmonth\", dayofmonth(col(\"fechas\")))\n",
    "parsed_df2.createOrReplaceTempView('parsed_df2')\n",
    "sqlContext.sql(\"SELECT DATE(fechas) Date, COUNT(host)/COUNT(DISTINCT host)\\\n",
    "                AS Peticiones_diarias_host FROM parsed_df2 GROUP BY  DATE(fechas) ORDER BY DATE(fechas) ASC\").show(n = 10)"
   ]
  },
  {
   "cell_type": "markdown",
   "metadata": {},
   "source": [
    "EJERCICIO 9\n",
    "- Ahora 40 endpoints distintos que generen codigos de respuesta 404 "
   ]
  },
  {
   "cell_type": "code",
   "execution_count": 26,
   "metadata": {
    "collapsed": false
   },
   "outputs": [
    {
     "data": {
      "text/plain": [
       "[(u'/shuttle/missions/mission.html', 404),\n",
       " (u'/space.pub.gif', 404),\n",
       " (u'/history/apollo.html', 404),\n",
       " (u'/msfe/astro_home.html', 404),\n",
       " (u'/shuttle/missions/missions,html', 404),\n",
       " (u'/shuttle/technology/sts-newref/stsref-toc.html', 404),\n",
       " (u'/history/apollo/sa-5/images/', 404),\n",
       " (u'/shuttle/technology/images/sts-comm.jpg', 404),\n",
       " (u'/history/appollo/apollo-13', 404),\n",
       " (u'/software/winvn.winvn.html', 404),\n",
       " (u'/hmhome.hmtl', 404),\n",
       " (u'/images/NASAlogo-small.gif', 404),\n",
       " (u'/history/apollo/aplool-13/apollo-13.html', 404),\n",
       " (u'/procurement/rschhdbk.html', 404),\n",
       " (u'/shuttle/missions/sts-70/images/ksc-95ec-o667.gif\"', 404),\n",
       " (u'/cinaplex', 404),\n",
       " (u'/shuttle/resources/orbiters/atlantis.gif', 404),\n",
       " (u'//www.msfc.nasa.gov', 404),\n",
       " (u'/review.com/index.html', 404),\n",
       " (u'/history/apollo/pad-abort-test-1/docs/', 404),\n",
       " (u'/shuttle/technology/sts-newsref/sts-toc.html', 404),\n",
       " (u'/learning/museum/', 404),\n",
       " (u'/welcome/html', 404),\n",
       " (u'/shuttle/missions/sts-87/mission-sts-87.html', 404),\n",
       " (u'/shuttle/technology/sts-newsref/sts_rcs.html', 404),\n",
       " (u'/shuttle/news/sci.space.news/1295', 404),\n",
       " (u'/shuttle/missions/mission_41_B.html', 404),\n",
       " (u'/de/dm/dm-asd/', 404),\n",
       " (u'/shuttle/images/', 404),\n",
       " (u'/elv/ATLAS_CENTAUR/elvhead2.gif', 404),\n",
       " (u'/apod/astropix.html', 404),\n",
       " (u'/images/School05.jpg', 404),\n",
       " (u'/%5B.pub', 404),\n",
       " (u'/shuttle/missions/missions.htlm', 404),\n",
       " (u'/history/gemini/gemini-12.html', 404),\n",
       " (u'/shuttle/missions/sts-83/mission-sts-83.html', 404),\n",
       " (u'/history/apollo-11/images/', 404),\n",
       " (u'/elv/SCOUT/elvhead2.gif', 404),\n",
       " (u'/history/apollo/apollo-2/', 404),\n",
       " (u'/history/apollo/sa-2/docs/', 404)]"
      ]
     },
     "execution_count": 26,
     "metadata": {},
     "output_type": "execute_result"
    }
   ],
   "source": [
    "code400 = endpointno200.filter(lambda x: x[1] == 404).distinct().take(40)\n",
    "code400"
   ]
  },
  {
   "cell_type": "markdown",
   "metadata": {},
   "source": [
    "EJERCICIO 10"
   ]
  },
  {
   "cell_type": "code",
   "execution_count": 27,
   "metadata": {
    "collapsed": false
   },
   "outputs": [],
   "source": [
    "only404 = data_clean.filter(lambda x: int(x[-2]) == 404)"
   ]
  },
  {
   "cell_type": "code",
   "execution_count": 28,
   "metadata": {
    "collapsed": false,
    "scrolled": true
   },
   "outputs": [
    {
     "data": {
      "text/plain": [
       "[(u'/pub/winvn/readme.txt', 633),\n",
       " (u'/pub/winvn/release.txt', 494),\n",
       " (u'/shuttle/missions/STS-69/mission-STS-69.html', 430),\n",
       " (u'/images/nasa-logo.gif', 319),\n",
       " (u'/elv/DELTA/uncons.htm', 178),\n",
       " (u'/shuttle/missions/sts-68/ksc-upclose.gif', 154),\n",
       " (u'/history/apollo/sa-1/sa-1-patch-small.gif', 146),\n",
       " (u'/images/crawlerway-logo.gif', 120),\n",
       " (u'/://spacelink.msfc.nasa.gov', 117),\n",
       " (u'/history/apollo/pad-abort-test-1/pad-abort-test-1-patch-small.gif', 100),\n",
       " (u'/history/apollo/a-001/a-001-patch-small.gif', 97),\n",
       " (u'/images/Nasa-logo.gif', 85),\n",
       " (u'/shuttle/resources/orbiters/atlantis.gif', 63),\n",
       " (u'/history/apollo/images/little-joe.jpg', 62),\n",
       " (u'/images/lf-logo.gif', 59),\n",
       " (u'/shuttle/resources/orbiters/discovery.gif', 56),\n",
       " (u'/shuttle/resources/orbiters/challenger.gif', 54),\n",
       " (u'/robots.txt', 53),\n",
       " (u'/elv/new01.gif>', 43),\n",
       " (u'/history/apollo/pad-abort-test-2/pad-abort-test-2-patch-small.gif', 38),\n",
       " (u'/pub', 36),\n",
       " (u'/pub/', 36),\n",
       " (u'/history/apollo/sa-2/sa-2-patch-small.gif', 35),\n",
       " (u'/history/apollo/sa-5/sa-5-patch-small.gif', 32),\n",
       " (u'/software/winvn/winvn.html.', 31)]"
      ]
     },
     "execution_count": 28,
     "metadata": {},
     "output_type": "execute_result"
    }
   ],
   "source": [
    "only404.map(lambda y: (y[6], 1)).reduceByKey(add).sortBy(lambda x: x[1], ascending = False).take(25)"
   ]
  },
  {
   "cell_type": "markdown",
   "metadata": {},
   "source": [
    "EJERCICIO 11\n",
    "- Top 5 días que generaron código de respuesta 404"
   ]
  },
  {
   "cell_type": "code",
   "execution_count": 29,
   "metadata": {
    "collapsed": false
   },
   "outputs": [
    {
     "name": "stdout",
     "output_type": "stream",
     "text": [
      "+------------------+-----+\n",
      "|dayofmonth(fechas)|count|\n",
      "+------------------+-----+\n",
      "|                 7|  532|\n",
      "|                 8|  381|\n",
      "|                 6|  372|\n",
      "|                 4|  346|\n",
      "|                15|  326|\n",
      "+------------------+-----+\n",
      "only showing top 5 rows\n",
      "\n"
     ]
    }
   ],
   "source": [
    "newdata_clean5 = newdata_clean2.select(from_unixtime(unix_timestamp('fechas', 'dd/MM/yyyy:hh:mm:ss')).alias('fechas'), 'status_Code')\n",
    "\n",
    "newdata_clean5.filter(newdata_clean5['status_Code'] == 404).groupBy(dayofmonth('fechas')).count().sort(col(\"count\").desc()).show(n = 5)\n"
   ]
  }
 ],
 "metadata": {
  "kernelspec": {
   "display_name": "Python 2",
   "language": "python",
   "name": "python2"
  },
  "language_info": {
   "codemirror_mode": {
    "name": "ipython",
    "version": 2
   },
   "file_extension": ".py",
   "mimetype": "text/x-python",
   "name": "python",
   "nbconvert_exporter": "python",
   "pygments_lexer": "ipython2",
   "version": "2.7.12"
  }
 },
 "nbformat": 4,
 "nbformat_minor": 2
}
