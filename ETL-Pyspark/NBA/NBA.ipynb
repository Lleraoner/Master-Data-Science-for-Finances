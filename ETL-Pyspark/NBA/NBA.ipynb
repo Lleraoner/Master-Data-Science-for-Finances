{
 "cells": [
  {
   "cell_type": "markdown",
   "metadata": {},
   "source": [
    "# Examen ETL: SPARK 02/02"
   ]
  },
  {
   "cell_type": "markdown",
   "metadata": {},
   "source": [
    "Se podrá utilizar toda la información que se encuentra en el campus. \n",
    "\n",
    "El fichero de datos sobre el que se trabajará es el de partidosLigaNBA.txt.\n",
    "\n",
    "A cada una de las preguntas hay que responder explicando brevemente que se pretende hacer antes de lanzar el código.\n",
    "\n",
    "Al documento lo llamareís con vuestro nombre y apellido. Debeís enviarlo a mi correo de CUNEF antes del final del examen.\n",
    "\n",
    "El lenguaje para trabajar con Spark podrá ser python o R indistintamente."
   ]
  },
  {
   "cell_type": "markdown",
   "metadata": {},
   "source": [
    "## Primera pregunta: Describe brevemente que diferencia el persists, cache y collect en spark. Explica brevemente casos en los que es interesante su aplicación"
   ]
  },
  {
   "cell_type": "markdown",
   "metadata": {
    "collapsed": true
   },
   "source": [
    "Persist <- te permite almacenar los datos tanto en la memoria\n",
    "Cache <- te permite guardar los datos en el caché\n",
    "Y collect es una acción de spark que lo que hace es sacar los resultados, equivale a take"
   ]
  },
  {
   "cell_type": "markdown",
   "metadata": {},
   "source": [
    "## Segunda pregunta: Explica brevemente los pasos a seguir para realizar la carga de un conjunto de datos (pasos que se siguieron en la práctica con datos de logs)"
   ]
  },
  {
   "cell_type": "markdown",
   "metadata": {
    "collapsed": true
   },
   "source": [
    "Primero lo que tenemos que realizar es la carga de las librerías pertinentes y necesarias para hacer la prácica, luego los \n",
    "contextos necesarios que necesitemos. Más tarde leemos los datos con la ruta, los introducimos en nuestro contexto con sc()."
   ]
  },
  {
   "cell_type": "markdown",
   "metadata": {},
   "source": [
    "## Tercera Pregunta: Índica un tipo de problema que puede empeorar los datos. (pe. Que no exista un representante del CDO en todas las áreas de negocio), pon algún ejemplo específico (pe. Datos duplicados) y cómo lo tratarías con técnicas de data cleaning."
   ]
  },
  {
   "cell_type": "markdown",
   "metadata": {},
   "source": [
    "Por ejemplo que existan fechas y no estén en tipo fecha, que haya datos faltantes, o que haya filas o columnas que no contengan información\n",
    "Y lo único que nos hagan sea distorsionarnos el análisis, que haya variables string que deberían de ser numéricas, que las variables no estén escaladas para la realización de modelos..."
   ]
  },
  {
   "cell_type": "markdown",
   "metadata": {},
   "source": [
    "## Cuarta tarea: Inicializar spark context y cargar los datos desde el fichero."
   ]
  },
  {
   "cell_type": "code",
   "execution_count": 5,
   "metadata": {
    "collapsed": true
   },
   "outputs": [],
   "source": [
    "import datetime as dt\n",
    "import re\n",
    "from datetime import *\n",
    "import os\n",
    "import pandas as pd\n",
    "from time import time\n",
    "\n",
    "from pyspark import SparkContext\n",
    "from pyspark.sql import *"
   ]
  },
  {
   "cell_type": "code",
   "execution_count": 2,
   "metadata": {
    "collapsed": false
   },
   "outputs": [],
   "source": [
    "sc = SparkContext()"
   ]
  },
  {
   "cell_type": "code",
   "execution_count": 6,
   "metadata": {
    "collapsed": false
   },
   "outputs": [],
   "source": [
    "sqlCont = SQLContext(sc)"
   ]
  },
  {
   "cell_type": "code",
   "execution_count": 8,
   "metadata": {
    "collapsed": true
   },
   "outputs": [],
   "source": [
    "datos = './partidosLigaNBA.csv'\n",
    "raw_data = sc.textFile(datos)"
   ]
  },
  {
   "cell_type": "code",
   "execution_count": 9,
   "metadata": {
    "collapsed": false
   },
   "outputs": [
    {
     "data": {
      "text/plain": [
       "['Date:Start..ET.:Visitor.Neutral:PTS:Home.Neutral:PTS.1',\n",
       " 'Tue, Oct 30, 2007:\"7:30 pm\":Utah Jazz:117:Golden State Warriors:96',\n",
       " 'Tue, Oct 30, 2007:\"7:30 pm\":Houston Rockets:95:Los Angeles Lakers:93',\n",
       " 'Tue, Oct 30, 2007:\"7:00 pm\":Portland Trail Blazers:97:San Antonio Spurs:106',\n",
       " 'Wed, Oct 31, 2007:\"8:00 pm\":Dallas Mavericks:92:Cleveland Cavaliers:74']"
      ]
     },
     "execution_count": 9,
     "metadata": {},
     "output_type": "execute_result"
    }
   ],
   "source": [
    "raw_data.take(5)"
   ]
  },
  {
   "cell_type": "code",
   "execution_count": 10,
   "metadata": {
    "collapsed": false
   },
   "outputs": [
    {
     "data": {
      "text/plain": [
       "[['Date', 'Start..ET.', 'Visitor.Neutral', 'PTS', 'Home.Neutral', 'PTS.1'],\n",
       " ['Tue, Oct 30, 2007',\n",
       "  '\"7',\n",
       "  '30 pm\"',\n",
       "  'Utah Jazz',\n",
       "  '117',\n",
       "  'Golden State Warriors',\n",
       "  '96'],\n",
       " ['Tue, Oct 30, 2007',\n",
       "  '\"7',\n",
       "  '30 pm\"',\n",
       "  'Houston Rockets',\n",
       "  '95',\n",
       "  'Los Angeles Lakers',\n",
       "  '93'],\n",
       " ['Tue, Oct 30, 2007',\n",
       "  '\"7',\n",
       "  '00 pm\"',\n",
       "  'Portland Trail Blazers',\n",
       "  '97',\n",
       "  'San Antonio Spurs',\n",
       "  '106'],\n",
       " ['Wed, Oct 31, 2007',\n",
       "  '\"8',\n",
       "  '00 pm\"',\n",
       "  'Dallas Mavericks',\n",
       "  '92',\n",
       "  'Cleveland Cavaliers',\n",
       "  '74']]"
      ]
     },
     "execution_count": 10,
     "metadata": {},
     "output_type": "execute_result"
    }
   ],
   "source": [
    "data_clean = raw_data.map(lambda x:x.split(':'))\n",
    "data_clean.take(5)"
   ]
  },
  {
   "cell_type": "code",
   "execution_count": 11,
   "metadata": {
    "collapsed": true
   },
   "outputs": [],
   "source": [
    "header = data_clean.first()"
   ]
  },
  {
   "cell_type": "code",
   "execution_count": 12,
   "metadata": {
    "collapsed": false
   },
   "outputs": [
    {
     "data": {
      "text/plain": [
       "[['Tue, Oct 30, 2007',\n",
       "  '\"7',\n",
       "  '30 pm\"',\n",
       "  'Utah Jazz',\n",
       "  '117',\n",
       "  'Golden State Warriors',\n",
       "  '96'],\n",
       " ['Tue, Oct 30, 2007',\n",
       "  '\"7',\n",
       "  '30 pm\"',\n",
       "  'Houston Rockets',\n",
       "  '95',\n",
       "  'Los Angeles Lakers',\n",
       "  '93'],\n",
       " ['Tue, Oct 30, 2007',\n",
       "  '\"7',\n",
       "  '00 pm\"',\n",
       "  'Portland Trail Blazers',\n",
       "  '97',\n",
       "  'San Antonio Spurs',\n",
       "  '106'],\n",
       " ['Wed, Oct 31, 2007',\n",
       "  '\"8',\n",
       "  '00 pm\"',\n",
       "  'Dallas Mavericks',\n",
       "  '92',\n",
       "  'Cleveland Cavaliers',\n",
       "  '74'],\n",
       " ['Wed, Oct 31, 2007',\n",
       "  '\"8',\n",
       "  '30 pm\"',\n",
       "  'Seattle SuperSonics',\n",
       "  '103',\n",
       "  'Denver Nuggets',\n",
       "  '120']]"
      ]
     },
     "execution_count": 12,
     "metadata": {},
     "output_type": "execute_result"
    }
   ],
   "source": [
    "data_clean = raw_data.map(lambda x:x.split(':')).filter(lambda x:'Playoffs' not in x[0]).filter(lambda x: x != header)\n",
    "data_clean.take(5)"
   ]
  },
  {
   "cell_type": "markdown",
   "metadata": {},
   "source": [
    "## Quinta tarea: Media de la diferencia de puntos por año"
   ]
  },
  {
   "cell_type": "code",
   "execution_count": 54,
   "metadata": {
    "collapsed": true
   },
   "outputs": [],
   "source": [
    "from pyspark.sql import *\n",
    "from pyspark.sql.functions import *\n",
    "from pyspark.sql.types import *\n",
    "import datetime as dt"
   ]
  },
  {
   "cell_type": "code",
   "execution_count": 85,
   "metadata": {
    "collapsed": false
   },
   "outputs": [],
   "source": [
    "data_frame = data_clean.map(lambda x:Row(fecha = dt.datetime.strptime((x[0]),'%a, %b %d, %Y').strftime('%m/%d/%Y'),\n",
    "                                         hora = (x[1] +' : '+ x[2]),\n",
    "                                         equipo_residente = x[5],\n",
    "                                         equipo_visitante = x[3],\n",
    "                                         puntos_visitante=int(x[4]),\n",
    "                                         puntos_local=int(x[6])))\n",
    "\n"
   ]
  },
  {
   "cell_type": "code",
   "execution_count": 102,
   "metadata": {
    "collapsed": false
   },
   "outputs": [],
   "source": [
    "df = sqlCont.createDataFrame(data_frame)\n",
    "df.registerTempTable('interactions')"
   ]
  },
  {
   "cell_type": "code",
   "execution_count": 103,
   "metadata": {
    "collapsed": false,
    "scrolled": true
   },
   "outputs": [
    {
     "name": "stdout",
     "output_type": "stream",
     "text": [
      "+--------------------+--------------------+----------+-----------+------------+----------------+\n",
      "|    equipo_residente|    equipo_visitante|     fecha|       hora|puntos_local|puntos_visitante|\n",
      "+--------------------+--------------------+----------+-----------+------------+----------------+\n",
      "|Golden State Warr...|           Utah Jazz|10/30/2007|\"7 : 30 pm\"|          96|             117|\n",
      "|  Los Angeles Lakers|     Houston Rockets|10/30/2007|\"7 : 30 pm\"|          93|              95|\n",
      "|   San Antonio Spurs|Portland Trail Bl...|10/30/2007|\"7 : 00 pm\"|         106|              97|\n",
      "| Cleveland Cavaliers|    Dallas Mavericks|10/31/2007|\"8 : 00 pm\"|          74|              92|\n",
      "|      Denver Nuggets| Seattle SuperSonics|10/31/2007|\"8 : 30 pm\"|         120|             103|\n",
      "+--------------------+--------------------+----------+-----------+------------+----------------+\n",
      "only showing top 5 rows\n",
      "\n"
     ]
    }
   ],
   "source": [
    "df.show(5)"
   ]
  },
  {
   "cell_type": "code",
   "execution_count": 104,
   "metadata": {
    "collapsed": false
   },
   "outputs": [
    {
     "name": "stdout",
     "output_type": "stream",
     "text": [
      "+--------------------+----------------+----------+-----------+------------+----------------+---+\n",
      "|    equipo_residente|equipo_visitante|     fecha|       hora|puntos_local|puntos_visitante|abs|\n",
      "+--------------------+----------------+----------+-----------+------------+----------------+---+\n",
      "|Golden State Warr...|       Utah Jazz|10/30/2007|\"7 : 30 pm\"|          96|             117| 21|\n",
      "|  Los Angeles Lakers| Houston Rockets|10/30/2007|\"7 : 30 pm\"|          93|              95|  2|\n",
      "+--------------------+----------------+----------+-----------+------------+----------------+---+\n",
      "only showing top 2 rows\n",
      "\n"
     ]
    }
   ],
   "source": [
    "df = df.withColumn('abs', abs(df.puntos_local - df.puntos_visitante)).show(2)\n"
   ]
  },
  {
   "cell_type": "markdown",
   "metadata": {},
   "source": [
    "Por RDD"
   ]
  },
  {
   "cell_type": "code",
   "execution_count": 13,
   "metadata": {
    "collapsed": false
   },
   "outputs": [
    {
     "data": {
      "text/plain": [
       "[('2017', 11.422166874221668),\n",
       " ('2016', 11.550637659414853),\n",
       " ('2015', 11.159969673995452),\n",
       " ('2014', 10.9047976011994),\n",
       " ('2013', 11.071752265861027),\n",
       " ('2012', 10.845318860244234),\n",
       " ('2011', 10.661016949152541),\n",
       " ('2010', 10.86903860711582),\n",
       " ('2009', 11.090425531914894),\n",
       " ('2008', 11.543543543543544),\n",
       " ('2007', 11.096491228070175)]"
      ]
     },
     "execution_count": 13,
     "metadata": {},
     "output_type": "execute_result"
    }
   ],
   "source": [
    "media_rdd = data_clean.map(lambda x: (x[0][len(x)-11:18], __builtin__.abs(int(x[4]) - int(x[6]))))\n",
    "\n",
    "miTupla = (0, 0)\n",
    "media_rdd.aggregateByKey(miTupla, lambda a,b: (a[0] + b,    a[1] + 1),\n",
    "                                 lambda a,b: (a[0] + b[0], a[1] + b[1]))\\\n",
    "                                .mapValues(lambda x: x[0]/x[1])\\\n",
    "                                .sortBy(lambda x: x[0], False)\\\n",
    "                                .collect()"
   ]
  },
  {
   "cell_type": "markdown",
   "metadata": {},
   "source": [
    "## Sexta tarea: ¿Han judado todos los equipos el mismo número de partidos? ¿ Si es qué no a que puede deberse?"
   ]
  },
  {
   "cell_type": "code",
   "execution_count": 16,
   "metadata": {
    "collapsed": true
   },
   "outputs": [],
   "source": [
    "from operator import add"
   ]
  },
  {
   "cell_type": "code",
   "execution_count": 19,
   "metadata": {
    "collapsed": false
   },
   "outputs": [],
   "source": [
    "equipos_visiantes = data_clean.map(lambda y: (y[3], 1))\n",
    "equipos_locales = data_clean.map(lambda y: (y[5], 1))\n",
    "\n",
    "agrupados_locales = equipos_locales.reduceByKey(add).sortBy(lambda x: x[1], False).collect()\n",
    "agrupados_visitantes = equipos_visiantes.reduceByKey(add).sortBy(lambda x: x[1], False).collect()"
   ]
  },
  {
   "cell_type": "code",
   "execution_count": 18,
   "metadata": {
    "collapsed": false
   },
   "outputs": [
    {
     "data": {
      "text/plain": [
       "[('San Antonio Spurs', 467),\n",
       " ('Boston Celtics', 467),\n",
       " ('Miami Heat', 461),\n",
       " ('Los Angeles Lakers', 450),\n",
       " ('Cleveland Cavaliers', 449),\n",
       " ('Atlanta Hawks', 448),\n",
       " ('Golden State Warriors', 445),\n",
       " ('Chicago Bulls', 436),\n",
       " ('Houston Rockets', 434),\n",
       " ('Indiana Pacers', 434),\n",
       " ('Memphis Grizzlies', 433),\n",
       " ('Dallas Mavericks', 431),\n",
       " ('Orlando Magic', 431),\n",
       " ('Los Angeles Clippers', 431),\n",
       " ('Toronto Raptors', 426),\n",
       " ('Portland Trail Blazers', 425),\n",
       " ('Denver Nuggets', 424),\n",
       " ('Utah Jazz', 422),\n",
       " ('Washington Wizards', 421),\n",
       " ('Philadelphia 76ers', 416),\n",
       " ('Detroit Pistons', 415),\n",
       " ('Milwaukee Bucks', 413),\n",
       " ('Phoenix Suns', 412),\n",
       " ('New York Knicks', 412),\n",
       " ('Oklahoma City Thunder', 410),\n",
       " ('Sacramento Kings', 402),\n",
       " ('Minnesota Timberwolves', 402),\n",
       " ('Charlotte Bobcats', 283),\n",
       " ('New Orleans Hornets', 250),\n",
       " ('Brooklyn Nets', 217),\n",
       " ('New Jersey Nets', 197),\n",
       " ('New Orleans Pelicans', 166),\n",
       " ('Charlotte Hornets', 126),\n",
       " ('Seattle SuperSonics', 41)]"
      ]
     },
     "execution_count": 18,
     "metadata": {},
     "output_type": "execute_result"
    }
   ],
   "source": [
    "agrupados_locales"
   ]
  },
  {
   "cell_type": "code",
   "execution_count": 20,
   "metadata": {
    "collapsed": false
   },
   "outputs": [
    {
     "data": {
      "text/plain": [
       "[('San Antonio Spurs', 466),\n",
       " ('Boston Celtics', 463),\n",
       " ('Miami Heat', 456),\n",
       " ('Cleveland Cavaliers', 452),\n",
       " ('Atlanta Hawks', 448),\n",
       " ('Los Angeles Lakers', 447),\n",
       " ('Golden State Warriors', 440),\n",
       " ('Chicago Bulls', 437),\n",
       " ('Dallas Mavericks', 436),\n",
       " ('Indiana Pacers', 434),\n",
       " ('Houston Rockets', 434),\n",
       " ('Memphis Grizzlies', 434),\n",
       " ('Orlando Magic', 432),\n",
       " ('Los Angeles Clippers', 430),\n",
       " ('Portland Trail Blazers', 428),\n",
       " ('Utah Jazz', 424),\n",
       " ('Toronto Raptors', 424),\n",
       " ('Denver Nuggets', 424),\n",
       " ('Washington Wizards', 423),\n",
       " ('Philadelphia 76ers', 418),\n",
       " ('Milwaukee Bucks', 414),\n",
       " ('Detroit Pistons', 414),\n",
       " ('Phoenix Suns', 413),\n",
       " ('New York Knicks', 413),\n",
       " ('Oklahoma City Thunder', 408),\n",
       " ('Sacramento Kings', 402),\n",
       " ('Minnesota Timberwolves', 402),\n",
       " ('Charlotte Bobcats', 283),\n",
       " ('New Orleans Hornets', 249),\n",
       " ('Brooklyn Nets', 218),\n",
       " ('New Jersey Nets', 197),\n",
       " ('New Orleans Pelicans', 166),\n",
       " ('Charlotte Hornets', 127),\n",
       " ('Seattle SuperSonics', 41)]"
      ]
     },
     "execution_count": 20,
     "metadata": {},
     "output_type": "execute_result"
    }
   ],
   "source": [
    "agrupados_visitantes"
   ]
  },
  {
   "cell_type": "markdown",
   "metadata": {
    "collapsed": false
   },
   "source": [
    "Como puede verse no han jugado los mismos numeros de partidos de local y visitante"
   ]
  },
  {
   "cell_type": "markdown",
   "metadata": {},
   "source": [
    "## Séptima pregunta: ¿Cuantos partidos ha ganado en Enero Clevelant?"
   ]
  },
  {
   "cell_type": "code",
   "execution_count": 24,
   "metadata": {
    "collapsed": false
   },
   "outputs": [
    {
     "data": {
      "text/plain": [
       "41"
      ]
     },
     "execution_count": 24,
     "metadata": {},
     "output_type": "execute_result"
    }
   ],
   "source": [
    "cleve_vis = data_clean.filter(lambda x:x[3] == 'Cleveland Cavaliers').filter(lambda x:'Jan' in x[0]).filter(lambda x: int(x[4])>int(x[6]))\n",
    "cleve_vis.count()"
   ]
  },
  {
   "cell_type": "code",
   "execution_count": 28,
   "metadata": {
    "collapsed": false
   },
   "outputs": [
    {
     "data": {
      "text/plain": [
       "42"
      ]
     },
     "execution_count": 28,
     "metadata": {},
     "output_type": "execute_result"
    }
   ],
   "source": [
    "cleve_local = data_clean.filter(lambda x:x[5] == 'Cleveland Cavaliers').filter(lambda x:'Jan' in x[0]).filter(lambda x: int(x[4])<int(x[6]))\n",
    "cleve_local.count()"
   ]
  },
  {
   "cell_type": "code",
   "execution_count": 29,
   "metadata": {
    "collapsed": false
   },
   "outputs": [
    {
     "data": {
      "text/plain": [
       "83"
      ]
     },
     "execution_count": 29,
     "metadata": {},
     "output_type": "execute_result"
    }
   ],
   "source": [
    "# Sumar para tener el ejercicio completo, como podemos observar tenemos 41 + 42\n",
    "\n",
    "cleve_local.count() + cleve_vis.count()"
   ]
  },
  {
   "cell_type": "markdown",
   "metadata": {},
   "source": [
    "## Octava pregunta: ¿Los Warrios son mejores fuera de casa o en casa?"
   ]
  },
  {
   "cell_type": "code",
   "execution_count": 206,
   "metadata": {
    "collapsed": false
   },
   "outputs": [],
   "source": [
    "victorias_warrior_local = data_clean.filter(lambda x:x[3] == 'Golden State Warriors').filter(lambda x: int(x[4])>int(x[6])).map(lambda x: (x[3],1)).reduceByKey(add).sortByKey().take(1)"
   ]
  },
  {
   "cell_type": "code",
   "execution_count": 207,
   "metadata": {
    "collapsed": false
   },
   "outputs": [],
   "source": [
    "victorias_Warrior_visitante = data_clean.filter(lambda x:x[5] == 'Golden State Warriors').filter(lambda x:int(x[6])>int(x[4])).map(lambda x : (x[5],1)).reduceByKey(add).sortByKey().take(1)"
   ]
  },
  {
   "cell_type": "code",
   "execution_count": 208,
   "metadata": {
    "collapsed": false
   },
   "outputs": [
    {
     "data": {
      "text/plain": [
       "[('Golden State Warriors', 215), ('Golden State Warriors', 308)]"
      ]
     },
     "execution_count": 208,
     "metadata": {},
     "output_type": "execute_result"
    }
   ],
   "source": [
    "victorias_warrior_local + victorias_Warrior_visitante"
   ]
  },
  {
   "cell_type": "markdown",
   "metadata": {},
   "source": [
    "Como podemos observar, las victorias de Warriors fuera de casa son mayores que en casa, 308 > 215"
   ]
  },
  {
   "cell_type": "markdown",
   "metadata": {},
   "source": [
    "## Novena pregunta: Equipo que ha quedado primerio en victorias más temporadas. (si es que hay alguno que más)"
   ]
  },
  {
   "cell_type": "markdown",
   "metadata": {},
   "source": [
    "##  Décima pregunta: Escribe la expresión regular correcta que sólo macheen los teléfonos y el correo del siguiente texto."
   ]
  },
  {
   "cell_type": "markdown",
   "metadata": {},
   "source": [
    "Si eres cliente y necesitas información sobre tus posiciones, productos o realizar operaciones: Desde España. Desde el extranjero. Banca telefónica en castellano. Bandera castellano. 902 13 23 13. Banca telefónica en catalán. Bandera catalana. 902 88 30 08. Banca telefónica en inglés. Bandera inglesa. 902 88 88 35. O por correo electrónico a atencioncliente@bankinter.com"
   ]
  }
 ],
 "metadata": {
  "kernelspec": {
   "display_name": "Python 3",
   "language": "python",
   "name": "python3"
  },
  "language_info": {
   "codemirror_mode": {
    "name": "ipython",
    "version": 3
   },
   "file_extension": ".py",
   "mimetype": "text/x-python",
   "name": "python",
   "nbconvert_exporter": "python",
   "pygments_lexer": "ipython3",
   "version": "3.5.2"
  }
 },
 "nbformat": 4,
 "nbformat_minor": 2
}
