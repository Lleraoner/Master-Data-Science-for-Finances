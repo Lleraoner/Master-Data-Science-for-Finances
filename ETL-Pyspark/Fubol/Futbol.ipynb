{
 "cells": [
  {
   "cell_type": "markdown",
   "metadata": {},
   "source": [
    "# Examen ETL: SPARK 09/02\n",
    "## Práctica 02 ETL    \n",
    "27/12/2018"
   ]
  },
  {
   "cell_type": "markdown",
   "metadata": {},
   "source": [
    "Se podrá utilizar toda la información que se encuentra en el campus. \n",
    "\n",
    "El fichero de datos sobre el que se trabajará es el de DataSetPartidos.txt.\n",
    "\n",
    "A cada una de las preguntas hay que responder explicando brevemente que se pretende hacer antes de lanzar el código.\n",
    "\n",
    "Al documento lo llamareís con vuestro nombre y apellido. Debeís enviarlo a mi correo de CUNEF antes del final del examen o en su defecto por email.\n",
    "\n",
    "El lenguaje para trabajar con Spark podrá ser python o R indistintamente."
   ]
  },
  {
   "cell_type": "markdown",
   "metadata": {},
   "source": [
    "## Primera pregunta: ¿ En que se diferencian las acciones de las transformaciones en SPARK? ¿Podrías ponerme un par de ejemplo de cada una de ellas y describir que hacen, para que sirve?"
   ]
  },
  {
   "cell_type": "markdown",
   "metadata": {},
   "source": [
    "Las transformaciones crean un nuevo dataset sobre uno ya existente y las acciones que devuelven valores al driver después de hacer una computación en un dataset.\n",
    "\n",
    "- Map(transformación): Pasa cada elemento de un dataset a través de una función especificada y devuelve un RDD nuevo con los valores especificados por el usuario.\n",
    "- Reduce (acción): Agrega todos los elementos del RDD usando una función y devuelve el resultado final al driver.\n",
    "- Filter (transformación): Filtra los elementos del dataset en función de las restricciones especificadas.\n",
    "- Collect (acción): Devuelve todos los elementos del dataset especificado."
   ]
  },
  {
   "cell_type": "markdown",
   "metadata": {},
   "source": [
    "## Segunda tarea: Inicializar spark context y cargar los datos desde el fichero."
   ]
  },
  {
   "cell_type": "code",
   "execution_count": 1,
   "metadata": {
    "collapsed": false
   },
   "outputs": [],
   "source": [
    "from pyspark import SparkContext\n",
    "sc = SparkContext()"
   ]
  },
  {
   "cell_type": "code",
   "execution_count": 2,
   "metadata": {
    "collapsed": true
   },
   "outputs": [],
   "source": [
    "from pyspark import SQLContext\n",
    "sqlContext = SQLContext(sc)"
   ]
  },
  {
   "cell_type": "code",
   "execution_count": 28,
   "metadata": {
    "collapsed": true
   },
   "outputs": [],
   "source": [
    "from pyspark.sql import *\n",
    "from pyspark.sql.functions import *\n",
    "from pyspark.sql.types import *\n",
    "import datetime as dt"
   ]
  },
  {
   "cell_type": "code",
   "execution_count": 29,
   "metadata": {
    "collapsed": false
   },
   "outputs": [],
   "source": [
    "datos = \"./DataSetPartidos.txt\"\n",
    "raw_data = sc.textFile(datos)"
   ]
  },
  {
   "cell_type": "code",
   "execution_count": 30,
   "metadata": {
    "collapsed": false
   },
   "outputs": [
    {
     "data": {
      "text/plain": [
       "['1::1970-71::1::Athletic Club::Barcelona::1::1::12/09/1970::21942000.0']"
      ]
     },
     "execution_count": 30,
     "metadata": {},
     "output_type": "execute_result"
    }
   ],
   "source": [
    "raw_data.take(1)"
   ]
  },
  {
   "cell_type": "code",
   "execution_count": 31,
   "metadata": {
    "collapsed": false
   },
   "outputs": [
    {
     "data": {
      "text/plain": [
       "34518"
      ]
     },
     "execution_count": 31,
     "metadata": {},
     "output_type": "execute_result"
    }
   ],
   "source": [
    "raw_data.count()"
   ]
  },
  {
   "cell_type": "code",
   "execution_count": 32,
   "metadata": {
    "collapsed": false
   },
   "outputs": [
    {
     "data": {
      "text/plain": [
       "[['1',\n",
       "  '1970-71',\n",
       "  '1',\n",
       "  'Athletic Club',\n",
       "  'Barcelona',\n",
       "  '1',\n",
       "  '1',\n",
       "  '12/09/1970',\n",
       "  '21942000.0']]"
      ]
     },
     "execution_count": 32,
     "metadata": {},
     "output_type": "execute_result"
    }
   ],
   "source": [
    "datos_tratados = raw_data.map(lambda x: x.split('::'))\n",
    "datos_tratados.take(1)"
   ]
  },
  {
   "cell_type": "code",
   "execution_count": 33,
   "metadata": {
    "collapsed": false
   },
   "outputs": [],
   "source": [
    "DatosTratadosDF = datos_tratados.map(lambda x: Row(Id = x[0],\n",
    "                                                    Temporada = x[1],\n",
    "                                                    Jornada = int(x[2]),\n",
    "                                                    Local = x[3],\n",
    "                                                    Visitante = x[4],\n",
    "                                                    GolLocal = int(x[5]),\n",
    "                                                    GolVisitante = int(x[6]),\n",
    "                                                    Date = dt.datetime.strptime(x[7], '%d/%m/%Y').strftime('%d/%m/%Y'),\n",
    "                                                    Unknown2 = x[8]))\n",
    "\n",
    "df_interact = sqlContext.createDataFrame(DatosTratadosDF)\n",
    "df_interact.registerTempTable('interactions')"
   ]
  },
  {
   "cell_type": "code",
   "execution_count": 34,
   "metadata": {
    "collapsed": false
   },
   "outputs": [
    {
     "name": "stdout",
     "output_type": "stream",
     "text": [
      "+----------+--------+------------+---+-------+------------------+---------+----------+------------------+\n",
      "|      Date|GolLocal|GolVisitante| Id|Jornada|             Local|Temporada|  Unknown2|         Visitante|\n",
      "+----------+--------+------------+---+-------+------------------+---------+----------+------------------+\n",
      "|12/09/1970|       1|           1|  1|      1|     Athletic Club|  1970-71|21942000.0|         Barcelona|\n",
      "|12/09/1970|       1|           1|  2|      1|        Las Palmas|  1970-71|21942000.0|Atletico de Madrid|\n",
      "|12/09/1970|       2|           0|  3|      1|       Real Madrid|  1970-71|21942000.0|          Valencia|\n",
      "|13/09/1970|       2|           0|  4|      1|     Celta de Vigo|  1970-71|22028400.0| Sporting de Gijon|\n",
      "|13/09/1970|       1|           1|  5|      1|             Elche|  1970-71|22028400.0|           Granada|\n",
      "|13/09/1970|       0|           1|  6|      1|          Espanyol|  1970-71|22028400.0|           Sevilla|\n",
      "|13/09/1970|       0|           0|  7|      1|          Sabadell|  1970-71|22028400.0|     Real Sociedad|\n",
      "|13/09/1970|       0|           0|  8|      1|     Real Zaragoza|  1970-71|22028400.0|         CD Malaga|\n",
      "|19/09/1970|       5|           1|  9|      2|          Valencia|  1970-71|22546800.0|        Las Palmas|\n",
      "|20/09/1970|       2|           0| 10|      2|Atletico de Madrid|  1970-71|22633200.0|     Athletic Club|\n",
      "|20/09/1970|       5|           2| 11|      2|         Barcelona|  1970-71|22633200.0|     Real Zaragoza|\n",
      "|20/09/1970|       3|           2| 12|      2| Sporting de Gijon|  1970-71|22633200.0|          Sabadell|\n",
      "|20/09/1970|       1|           0| 13|      2|           Granada|  1970-71|22633200.0|          Espanyol|\n",
      "|20/09/1970|       2|           1| 14|      2|         CD Malaga|  1970-71|22633200.0|     Celta de Vigo|\n",
      "|20/09/1970|       2|           0| 15|      2|     Real Sociedad|  1970-71|22633200.0|             Elche|\n",
      "|20/09/1970|       3|           1| 16|      2|           Sevilla|  1970-71|22633200.0|       Real Madrid|\n",
      "|26/09/1970|       1|           1| 17|      3|        Las Palmas|  1970-71|23151600.0|     Athletic Club|\n",
      "|26/09/1970|       3|           2| 18|      3|       Real Madrid|  1970-71|23151600.0|           Granada|\n",
      "|26/09/1970|       0|           1| 19|      3|          Valencia|  1970-71|23151600.0|           Sevilla|\n",
      "|27/09/1970|       1|           1| 20|      3|     Celta de Vigo|  1970-71|23238000.0|         Barcelona|\n",
      "+----------+--------+------------+---+-------+------------------+---------+----------+------------------+\n",
      "only showing top 20 rows\n",
      "\n"
     ]
    }
   ],
   "source": [
    "df_interact.show()"
   ]
  },
  {
   "cell_type": "markdown",
   "metadata": {},
   "source": [
    "## Tercera pregunta: Calcular el número total de goles que ha marcado el Real Sporting de Gijón."
   ]
  },
  {
   "cell_type": "markdown",
   "metadata": {},
   "source": [
    "A través de RDD"
   ]
  },
  {
   "cell_type": "code",
   "execution_count": 35,
   "metadata": {
    "collapsed": false
   },
   "outputs": [
    {
     "data": {
      "text/plain": [
       "2042"
      ]
     },
     "execution_count": 35,
     "metadata": {},
     "output_type": "execute_result"
    }
   ],
   "source": [
    "from operator import add\n",
    "\n",
    "sporting_local = datos_tratados.filter(lambda x: x[3] == 'Sporting de Gijon').map(lambda x: int(x[5])).reduce(add)\n",
    "sporting_visitante = datos_tratados.filter(lambda x: x[4] == 'Sporting de Gijon').map(lambda x: int(x[6])).reduce(add)\n",
    "\n",
    "sporting_local + sporting_visitante"
   ]
  },
  {
   "cell_type": "markdown",
   "metadata": {},
   "source": [
    "Resolución del apartado 3 a través de DataFrame"
   ]
  },
  {
   "cell_type": "code",
   "execution_count": 36,
   "metadata": {
    "collapsed": false
   },
   "outputs": [
    {
     "data": {
      "text/plain": [
       "2042"
      ]
     },
     "execution_count": 36,
     "metadata": {},
     "output_type": "execute_result"
    }
   ],
   "source": [
    "como_local = df_interact.select('Local', 'GolLocal').filter(df_interact.Local == 'Sporting de Gijon')\n",
    "como_local_acum = como_local.groupBy('Local').sum()\n",
    "\n",
    "como_visitante = df_interact.select('Visitante', 'GolVisitante').filter(df_interact.Visitante == 'Sporting de Gijon')\n",
    "como_visitante_acum = como_visitante.groupBy('Visitante').sum()\n",
    "\n",
    "como_local_acum.take(1)[0][1] + como_visitante_acum.take(1)[0][1]"
   ]
  },
  {
   "cell_type": "markdown",
   "metadata": {},
   "source": [
    "## Cuarta pregunta: ¿ En que temporada se marcaron más goles?"
   ]
  },
  {
   "cell_type": "code",
   "execution_count": 37,
   "metadata": {
    "collapsed": false
   },
   "outputs": [
    {
     "name": "stdout",
     "output_type": "stream",
     "text": [
      "+---------+-------------+-----------------+----------------+\n",
      "|Temporada|sum(GolLocal)|sum(GolVisitante)|sum(Total Goles)|\n",
      "+---------+-------------+-----------------+----------------+\n",
      "|  2012-13|         1363|              931|            2294|\n",
      "+---------+-------------+-----------------+----------------+\n",
      "only showing top 1 row\n",
      "\n"
     ]
    }
   ],
   "source": [
    "top_goles = df_interact.select('Temporada', 'GolLocal', 'GolVisitante')\n",
    "top_goles = top_goles.withColumn('Total Goles', top_goles.GolLocal + top_goles.GolVisitante)\n",
    "top_goles.groupBy('Temporada').sum().sort(desc('sum(Total Goles)')).show(1)"
   ]
  },
  {
   "cell_type": "code",
   "execution_count": null,
   "metadata": {
    "collapsed": true
   },
   "outputs": [],
   "source": [
    "data_clean.map(lambda x: (x[1], int(x[5])+int(x[6]))).reduceByKey(add).sortBy(lambda x: x[1], ascending = False).take(10)"
   ]
  },
  {
   "cell_type": "markdown",
   "metadata": {},
   "source": [
    "## Quinta pregunta: ¿Cúal es el equipo que tiene el record de más goles como local? ¿ y cómo visitante?"
   ]
  },
  {
   "cell_type": "markdown",
   "metadata": {},
   "source": [
    "Record como local"
   ]
  },
  {
   "cell_type": "code",
   "execution_count": 38,
   "metadata": {
    "collapsed": false
   },
   "outputs": [
    {
     "name": "stdout",
     "output_type": "stream",
     "text": [
      "+------------------+-------------+\n",
      "|             Local|sum(GolLocal)|\n",
      "+------------------+-------------+\n",
      "|       Real Madrid|         2054|\n",
      "|         Barcelona|         2043|\n",
      "|Atletico de Madrid|         1566|\n",
      "|          Valencia|         1522|\n",
      "|     Athletic Club|         1424|\n",
      "+------------------+-------------+\n",
      "only showing top 5 rows\n",
      "\n"
     ]
    }
   ],
   "source": [
    "record_goles_local = df_interact.select('Local', 'GolLocal')\n",
    "record_goles_local.groupBy('Local').sum().sort(desc('sum(GolLocal)')).show(5)"
   ]
  },
  {
   "cell_type": "markdown",
   "metadata": {},
   "source": [
    "Record como visitante"
   ]
  },
  {
   "cell_type": "code",
   "execution_count": 39,
   "metadata": {
    "collapsed": false
   },
   "outputs": [
    {
     "name": "stdout",
     "output_type": "stream",
     "text": [
      "+------------------+-----------------+\n",
      "|         Visitante|sum(GolVisitante)|\n",
      "+------------------+-----------------+\n",
      "|       Real Madrid|             1296|\n",
      "|         Barcelona|             1296|\n",
      "|Atletico de Madrid|              988|\n",
      "|          Valencia|              919|\n",
      "|             Betis|              853|\n",
      "+------------------+-----------------+\n",
      "only showing top 5 rows\n",
      "\n"
     ]
    }
   ],
   "source": [
    "record_goles_visitante = df_interact.select('Visitante', 'GolVisitante')\n",
    "record_goles_visitante.groupBy('Visitante').sum().sort(desc('sum(GolVisitante)')).show(5)"
   ]
  },
  {
   "cell_type": "code",
   "execution_count": null,
   "metadata": {
    "collapsed": true
   },
   "outputs": [],
   "source": [
    "Local = data_clean.map(lambda x: (x[3], int(x[5]))).reduceByKey(add).sortBy(lambda x: x[1],ascending = False).take(1)\n",
    "Local"
   ]
  },
  {
   "cell_type": "code",
   "execution_count": null,
   "metadata": {
    "collapsed": true
   },
   "outputs": [],
   "source": [
    "visitante = data_clean.map(lambda x: (x[4], int(x[6]))).reduceByKey(add).sortBy(lambda x: x[1], ascending = False).take(3)\n",
    "visitante"
   ]
  },
  {
   "cell_type": "markdown",
   "metadata": {},
   "source": [
    "## Sexta pregunta: ¿Cúales son las 3 décadas en las que más goles se metieron?"
   ]
  },
  {
   "cell_type": "code",
   "execution_count": 40,
   "metadata": {
    "collapsed": false
   },
   "outputs": [
    {
     "name": "stdout",
     "output_type": "stream",
     "text": [
      "+------+-------------+\n",
      "|Decade|Goles totales|\n",
      "+------+-------------+\n",
      "|  2000|        20526|\n",
      "|  1990|        19321|\n",
      "|  1980|        17336|\n",
      "|  1970|        15222|\n",
      "|  2010|        12061|\n",
      "+------+-------------+\n",
      "\n"
     ]
    }
   ],
   "source": [
    "from pyspark.sql.functions import *\n",
    "from pyspark.sql.types import *\n",
    "from pyspark.sql.functions import udf\n",
    "\n",
    "def getDecade(x):\n",
    "    res = (x // 10) * 10\n",
    "    return res\n",
    "\n",
    "split_date = split(df_interact.Date, '/')\n",
    "\n",
    "#Creamos la columna del año\n",
    "df_interact_date_split = df_interact.withColumn('Year', split_date.getItem(2)).select('GolLocal', 'GolVisitante', 'Year')\n",
    "\n",
    "#Cambiamos el tipo de la columna a INT\n",
    "df_interact_date_split = df_interact_date_split.withColumn('Year', df_interact_date_split.Year.cast('int'))\n",
    "\n",
    "#Creamos nuevo DF con el total de goles por fila\n",
    "df_dt_decades = df_interact_date_split\\\n",
    "                .withColumn('Total_Goles', df_interact_date_split.GolLocal + df_interact_date_split.GolVisitante)\n",
    "\n",
    "    #funcion definida por el usuario\n",
    "conv_to_decade = udf(getDecade, IntegerType())\n",
    "\n",
    "#Aplicamos la funcion a la columna Year y la guardamos en Decade\n",
    "df_dt_decades = df_dt_decades.withColumn('Decade',conv_to_decade(df_dt_decades['Year'])).select('Decade', 'Total_Goles')\n",
    "\n",
    "df_dt_decades.groupBy('Decade').sum().sort(desc('sum(Total_Goles)'))\\\n",
    "            .select('Decade', col('sum(Total_Goles)').alias('Goles totales'))\\\n",
    "            .show()"
   ]
  },
  {
   "cell_type": "markdown",
   "metadata": {},
   "source": [
    "##  Séptima pregunta: ¿Cúal es la media de victorias de los equipos que han estado menos de 10 temporadas en primera división?"
   ]
  },
  {
   "cell_type": "markdown",
   "metadata": {},
   "source": [
    "Primero vamos a obtener las medias siendo Local, para ello nos definimos una UDF que pasaremos a las columnas GolLocal y GolVisitante con el objetivo de determinar si ganó (1) o perdió(0), además de un contador de 'apariciones' que servirá para filtrar aquellos que han aparecido menos de 10 veces"
   ]
  },
  {
   "cell_type": "code",
   "execution_count": 41,
   "metadata": {
    "collapsed": false
   },
   "outputs": [
    {
     "name": "stdout",
     "output_type": "stream",
     "text": [
      "+-------+--------+------------+---------+-------------+------------------+---------+--------+------+\n",
      "|Jornada|GolLocal|GolVisitante|Temporada|        Local|         Visitante|Temporada|LocalWon|VisWon|\n",
      "+-------+--------+------------+---------+-------------+------------------+---------+--------+------+\n",
      "|      1|       1|           1|  1970-71|Athletic Club|         Barcelona|  1970-71|       0|     0|\n",
      "|      1|       1|           1|  1970-71|   Las Palmas|Atletico de Madrid|  1970-71|       0|     0|\n",
      "|      1|       2|           0|  1970-71|  Real Madrid|          Valencia|  1970-71|       1|     0|\n",
      "|      1|       2|           0|  1970-71|Celta de Vigo| Sporting de Gijon|  1970-71|       1|     0|\n",
      "|      1|       1|           1|  1970-71|        Elche|           Granada|  1970-71|       0|     0|\n",
      "+-------+--------+------------+---------+-------------+------------------+---------+--------+------+\n",
      "only showing top 5 rows\n",
      "\n"
     ]
    }
   ],
   "source": [
    "import time\n",
    "\n",
    "def getVictory(x, y):\n",
    "    res = 0\n",
    "    #Si el primero que le pasemos \n",
    "    #ha metido mas goles que el segundo\n",
    "    if x > y:\n",
    "        res = 1\n",
    "        return res\n",
    "    else:\n",
    "        return res\n",
    "\n",
    "#Registramos la funcion udf\n",
    "get_victory = udf(getVictory, IntegerType())\n",
    "\n",
    "#Preparamos el DataFrame completo\n",
    "vic_mean = df_interact.select('Jornada', 'GolLocal', 'GolVisitante', 'Temporada', 'Local', 'Visitante', 'Temporada')\n",
    "vic_mean = vic_mean.withColumn('LocalWon', get_victory(vic_mean.GolLocal, vic_mean.GolVisitante))\n",
    "vic_mean = vic_mean.withColumn('VisWon', get_victory(vic_mean.GolVisitante, vic_mean.GolLocal))\n",
    "vic_mean.show(5)"
   ]
  },
  {
   "cell_type": "code",
   "execution_count": 42,
   "metadata": {
    "collapsed": false
   },
   "outputs": [
    {
     "name": "stdout",
     "output_type": "stream",
     "text": [
      "+-----------------+-----------------------------+-------------------+\n",
      "|            Local|Numero de apariciones totales|    Media_victorias|\n",
      "+-----------------+-----------------------------+-------------------+\n",
      "|       AD Almeria|                            4| 0.5138888888888888|\n",
      "|         Alcorcon|                            5| 0.5533980582524272|\n",
      "|         Alcoyano|                            1| 0.2857142857142857|\n",
      "|        Algeciras|                            4| 0.3974358974358974|\n",
      "|         Alicante|                            1|0.09523809523809523|\n",
      "|           Alzira|                            1| 0.3684210526315789|\n",
      "|           Aragon|                            1|0.42105263157894735|\n",
      "|Atletico Marbella|                            4| 0.4342105263157895|\n",
      "|           Aviles|                            2|0.34210526315789475|\n",
      "|        Barakaldo|                            6| 0.6140350877192983|\n",
      "|     Calvo Sotelo|                            5| 0.5263157894736842|\n",
      "|        Cartagena|                            6| 0.4188034188034188|\n",
      "|            Ceuta|                            1| 0.5789473684210527|\n",
      "| Ciudad de Murcia|                            4| 0.4523809523809524|\n",
      "| Cultural Leonesa|                            3| 0.5087719298245614|\n",
      "|            Ecija|                            2| 0.3157894736842105|\n",
      "|            Ejido|                            7| 0.4217687074829932|\n",
      "|         Ensidesa|                            1|0.47368421052631576|\n",
      "|      Extremadura|                            8|0.47530864197530864|\n",
      "|     FC Cartagena|                            3|0.42857142857142855|\n",
      "+-----------------+-----------------------------+-------------------+\n",
      "only showing top 20 rows\n",
      "\n",
      "Tiempo total de ejecución: 9.797286987304688\n"
     ]
    }
   ],
   "source": [
    "#Obtenemos por parte del equipo Local\n",
    "t0 = time.time()\n",
    "\n",
    "mv_filter_local = vic_mean.select('Local', 'Temporada', 'LocalWon')\\\n",
    "                                 .withColumn('AparicionesTotales', lit(1))\\\n",
    "                                 .groupBy(['Local', 'Temporada'])\\\n",
    "                                 .sum()\\\n",
    "                                 .withColumn('Por_temporada', lit(1))\\\n",
    "                                 .groupBy('Local')\\\n",
    "                                 .sum()\\\n",
    "                                 .sort('Local')\n",
    "\n",
    "mv_filter_local.filter(mv_filter_local['sum(Por_temporada)'] < 10)\\\n",
    "                .withColumn('Media_victorias', mv_filter_local['sum(sum(LocalWon))'] / mv_filter_local['sum(sum(AparicionesTotales))'])\\\n",
    "                .select('Local', col('sum(Por_temporada)').alias('Numero de apariciones totales'), 'Media_victorias')\\\n",
    "                .show()\n",
    "\n",
    "print('Tiempo total de ejecución: {}'.format(time.time() - t0))"
   ]
  },
  {
   "cell_type": "markdown",
   "metadata": {},
   "source": [
    "Ahora vamos a obtener las medias por Visitante aplicando lo que hemos hecho previamente"
   ]
  },
  {
   "cell_type": "code",
   "execution_count": 43,
   "metadata": {
    "collapsed": false
   },
   "outputs": [
    {
     "name": "stdout",
     "output_type": "stream",
     "text": [
      "+-----------------+-----------------------------+-------------------+\n",
      "|        Visitante|Numero de apariciones totales|    Media_victorias|\n",
      "+-----------------+-----------------------------+-------------------+\n",
      "|       AD Almeria|                            4|0.09722222222222222|\n",
      "|         Alcorcon|                            5|               0.29|\n",
      "|         Alcoyano|                            1|0.14285714285714285|\n",
      "|        Algeciras|                            4| 0.0641025641025641|\n",
      "|         Alicante|                            1| 0.2857142857142857|\n",
      "|           Alzira|                            1|0.10526315789473684|\n",
      "|           Aragon|                            1|0.05263157894736842|\n",
      "|Atletico Marbella|                            4|0.14473684210526316|\n",
      "|           Aviles|                            2|0.15789473684210525|\n",
      "|        Barakaldo|                            6|0.07017543859649122|\n",
      "|     Calvo Sotelo|                            5|0.06315789473684211|\n",
      "|        Cartagena|                            6|0.11965811965811966|\n",
      "|            Ceuta|                            1|                0.0|\n",
      "| Ciudad de Murcia|                            4|               0.25|\n",
      "| Cultural Leonesa|                            3|0.08771929824561403|\n",
      "|            Ecija|                            2|0.18421052631578946|\n",
      "|            Ejido|                            7|0.19047619047619047|\n",
      "|         Ensidesa|                            1|0.10526315789473684|\n",
      "|      Extremadura|                            8| 0.2037037037037037|\n",
      "|     FC Cartagena|                            3|0.25396825396825395|\n",
      "+-----------------+-----------------------------+-------------------+\n",
      "only showing top 20 rows\n",
      "\n",
      "Tiempo total de ejecución: 8.713735342025757\n"
     ]
    }
   ],
   "source": [
    "#Obtenemos por parte del equipo visitante\n",
    "t0 = time.time()\n",
    "\n",
    "mv_filter_vis = vic_mean.select('Visitante', 'Temporada', 'VisWon')\\\n",
    "                                 .withColumn('AparicionesTotales', lit(1))\\\n",
    "                                 .groupBy(['Visitante', 'Temporada'])\\\n",
    "                                 .sum()\\\n",
    "                                 .withColumn('Por_temporada', lit(1))\\\n",
    "                                 .groupBy('Visitante')\\\n",
    "                                 .sum()\\\n",
    "                                 .sort('Visitante')\n",
    "\n",
    "mv_filter_vis.filter(mv_filter_vis['sum(Por_temporada)'] < 10)\\\n",
    "                .withColumn('Media_victorias', mv_filter_vis['sum(sum(VisWon))'] / mv_filter_vis['sum(sum(AparicionesTotales))'])\\\n",
    "                .select('Visitante', col('sum(Por_temporada)').alias('Numero de apariciones totales'), 'Media_victorias')\\\n",
    "                .show()\n",
    "            \n",
    "print('Tiempo total de ejecución: {}'.format(time.time() - t0))"
   ]
  },
  {
   "cell_type": "markdown",
   "metadata": {},
   "source": [
    "##  Octava pregunta: ¿Cúal es la media de goles como visitante por partido?"
   ]
  },
  {
   "cell_type": "markdown",
   "metadata": {},
   "source": [
    "Para esta pregunta vamos a comparar el numero de goles que marca cada visitante en cada partido con el total de goles que ha marcado ese equipo en todo el dataset como visitante."
   ]
  },
  {
   "cell_type": "code",
   "execution_count": 44,
   "metadata": {
    "collapsed": false
   },
   "outputs": [
    {
     "name": "stdout",
     "output_type": "stream",
     "text": [
      "+---------+------------+-------------+--------------------+\n",
      "|Visitante|GolVisitante|Goles_totales|       Media_partido|\n",
      "+---------+------------+-------------+--------------------+\n",
      "| Logroñes|           1|          307|0.003257328990228013|\n",
      "| Logroñes|           1|          307|0.003257328990228013|\n",
      "| Logroñes|           2|          307|0.006514657980456026|\n",
      "| Logroñes|           1|          307|0.003257328990228013|\n",
      "| Logroñes|           0|          307|                 0.0|\n",
      "| Logroñes|           0|          307|                 0.0|\n",
      "| Logroñes|           0|          307|                 0.0|\n",
      "| Logroñes|           0|          307|                 0.0|\n",
      "| Logroñes|           1|          307|0.003257328990228013|\n",
      "| Logroñes|           2|          307|0.006514657980456026|\n",
      "| Logroñes|           1|          307|0.003257328990228013|\n",
      "| Logroñes|           0|          307|                 0.0|\n",
      "| Logroñes|           1|          307|0.003257328990228013|\n",
      "| Logroñes|           0|          307|                 0.0|\n",
      "| Logroñes|           0|          307|                 0.0|\n",
      "| Logroñes|           0|          307|                 0.0|\n",
      "| Logroñes|           0|          307|                 0.0|\n",
      "| Logroñes|           0|          307|                 0.0|\n",
      "| Logroñes|           0|          307|                 0.0|\n",
      "| Logroñes|           0|          307|                 0.0|\n",
      "+---------+------------+-------------+--------------------+\n",
      "only showing top 20 rows\n",
      "\n"
     ]
    }
   ],
   "source": [
    "mean_goals_vis = df_interact.select('GolVisitante', 'Visitante')\n",
    "mean_goals_vis = mean_goals_vis.groupBy('Visitante')\\\n",
    "            .agg(sum('GolVisitante').alias('Goles_totales'))\n",
    "        \n",
    "goles_por_partido = df_interact.select('GolVisitante', 'Visitante')\n",
    "\n",
    "\n",
    "goles_por_partido.join(mean_goals_vis, 'Visitante')\\\n",
    "                    .withColumn('Media_partido', goles_por_partido.GolVisitante / mean_goals_vis.Goles_totales)\\\n",
    "                    .show()"
   ]
  }
 ],
 "metadata": {
  "kernelspec": {
   "display_name": "Python 3",
   "language": "python",
   "name": "python3"
  },
  "language_info": {
   "codemirror_mode": {
    "name": "ipython",
    "version": 3
   },
   "file_extension": ".py",
   "mimetype": "text/x-python",
   "name": "python",
   "nbconvert_exporter": "python",
   "pygments_lexer": "ipython3",
   "version": "3.5.2"
  }
 },
 "nbformat": 4,
 "nbformat_minor": 2
}
