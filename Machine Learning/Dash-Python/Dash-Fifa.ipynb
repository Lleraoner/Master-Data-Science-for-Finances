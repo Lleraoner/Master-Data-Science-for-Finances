{
 "cells": [
  {
   "cell_type": "markdown",
   "metadata": {},
   "source": [
    "# MODELO DE VISUALIZACIÓN CON DASH "
   ]
  },
  {
   "cell_type": "markdown",
   "metadata": {},
   "source": [
    "## Objectives"
   ]
  },
  {
   "cell_type": "markdown",
   "metadata": {},
   "source": [
    "The aim of this project is to make a prediction about the **best substitute for a football player chosen by the user**, the list of top 10 player will be chosen using the KNN algorithm. We will be using the python Dash extension which is a Python framework for building analytical web applications to make visualizations like Shiny in R, Datawrapper or tableau. \n",
    "\n",
    "In this application the user will be able to choose a player within a dataset of 18.000 players. The algorithm will show a dash-table with the top 10 players which fit best the overall, field position and wage of the chosen one.\n",
    "\n",
    "We will use a FIFA2019 dataset downloaded from Kaggle with all the stats for each player as well as wage, overall...\n",
    "\n",
    "Our KPIs(A Key Performance Indicator (KPI) is a measurable value that demonstrates how effectively a company is achieving key business objectives). They are:\n",
    "\n",
    "- Save costs to the team and time to find a substitute\n",
    "\n",
    "- Optimize player selection for a field position based on overall and salary."
   ]
  },
  {
   "cell_type": "markdown",
   "metadata": {},
   "source": [
    "# DASH"
   ]
  },
  {
   "cell_type": "markdown",
   "metadata": {},
   "source": [
    "Dash is an open source library for Python to create web-based reactive applications. Dash started as a public open source proof of concept two years ago.\n",
    "\n",
    "Dash simplifies the GUI creation. It is a user-interface library to develop analytic applications. Those users who use Python to explore, analyse, model, instrument control and reports, will find an immediate application for Dash."
   ]
  },
  {
   "cell_type": "markdown",
   "metadata": {},
   "source": [
    "We are going to visualize a basic Dash example."
   ]
  },
  {
   "cell_type": "code",
   "execution_count": 2,
   "metadata": {},
   "outputs": [
    {
     "data": {
      "text/html": [
       "<img src=\"http://i68.tinypic.com/14nfce9.png\"/>"
      ],
      "text/plain": [
       "<IPython.core.display.Image object>"
      ]
     },
     "execution_count": 2,
     "metadata": {},
     "output_type": "execute_result"
    }
   ],
   "source": [
    "from IPython.display import Image\n",
    "from IPython.core.display import HTML\n",
    "Image(url='http://i68.tinypic.com/14nfce9.png')"
   ]
  },
  {
   "cell_type": "markdown",
   "metadata": {},
   "source": [
    "## Dash introduction\n",
    "\n",
    "As we have said previously, Dash is the most advanced visualization method in Python, it uses resources as plotly does with ggplot in R. They are interactive graphics that allow a perfect level of visualization and interaction. We have widgets as inputs, sliders, buttons and much more.\n",
    "\n",
    "Dash includes real time updating, which refresh the application any time an input changes.\n",
    "\n",
    "The layout of a Dash app describes what the app looks like. The layout is a hierarchical tree of components. The dash_html_components library provides classes for all of the HTML tags and the keyword arguments describe the HTML attributes like style, className, and id. The dash_core_components library generates higher-level components like controls and graphs."
   ]
  },
  {
   "cell_type": "markdown",
   "metadata": {},
   "source": [
    "## Business problem"
   ]
  },
  {
   "cell_type": "markdown",
   "metadata": {},
   "source": [
    "The first step of a Data scientist is to detect the business problem to solve or optimize a process. The business aim of this project will be to save costs to small teams since the replacement of a team member will be practically automatic. Thanks to the KNN algorithm, we can save costs firing people."
   ]
  },
  {
   "cell_type": "markdown",
   "metadata": {},
   "source": [
    "## Data Dictionary"
   ]
  },
  {
   "cell_type": "markdown",
   "metadata": {},
   "source": [
    "We have a 18.000 rows dataset with 89 columns refering to football players stats that we will use in this application. We do not need to implement another programming language like PySpark since the data is already ordered and structured."
   ]
  },
  {
   "cell_type": "markdown",
   "metadata": {},
   "source": [
    "### Initial exploration\n",
    "\n",
    "- **Crossing** <- rating on scale of 100\n",
    "\n",
    "- **Finishing** <- rating on scale of 100\n",
    "\n",
    "- **HeadingAccuracy** <- como está colocado de bien rating on scale of 100\n",
    "\n",
    "- **ShortPassing** <- rating on scale of 100\n",
    "\n",
    "- **Volleys** <- rating on scale of 100\n",
    "\n",
    "- **Dribbling** <- rating on scale of 100\n",
    "\n",
    "- **Curve** <- rating on scale of 100\n",
    "\n",
    "- **FKAccuracy** <- tiros libres rating on scale of 100\n",
    "\n",
    "- **LongPassing** <- rating on scale of 100\n",
    "\n",
    "- **BallControl** <- rating on scale of 100\n",
    "\n",
    "- **Acceleration** <- rating on scale of 100\n",
    "\n",
    "- **SprintSpeed** <- rating on scale of 100\n",
    "\n",
    "- **Agility** <- rating on scale of 100\n",
    "\n",
    "- **Reactions** <- rating on scale of 100\n",
    "\n",
    "- **Balance** <- rating on scale of 100\n",
    "\n",
    "- **ShotPower** <- rating on scale of 100\n",
    "\n",
    "- **Jumping** <- rating on scale of 100\n",
    "\n",
    "- **Stamina** <- rating on scale of 100\n",
    "\n",
    "- **Strength** <- rating on scale of 100\n",
    "\n",
    "- **LongShots** <- rating on scale of 100\n",
    "\n",
    "- **Aggression** <- rating on scale of 100\n",
    "\n",
    "- **Interceptions** <- rating on scale of 100\n",
    "\n",
    "- **Positioning** <- rating on scale of 100\n",
    "\n",
    "- **Vision** <- rating on scale of 100\n",
    "\n",
    "- **Penalties** <- rating on scale of 100\n",
    "\n",
    "- **Composure** <- rating on scale of 100\n",
    "\n",
    "- **Marking** <- rating on scale of 100\n",
    "\n",
    "- **StandingTackle** <- A standing tackle or short tackle is a tackle in which the tackler performs a tackle while standing. rating on scale of 100\n",
    "\n",
    "- **SlidingTackle** <- rating on scale of 100\n",
    "\n",
    "- **GKDiving** <- rating on scale of 100\n",
    "\n",
    "- **GKHandling** <- rating on scale of 100\n",
    "\n",
    "- **GKKicking** <- rating on scale of 100\n",
    "\n",
    "- **GKPositioning** <-rating on scale of 100\n",
    "\n",
    "- **GKReflexes** <- rating on scale of 100\n",
    "\n",
    "- **Release Clause** <- release clause value\n",
    "\n",
    "**GK = Goal Keeper**"
   ]
  },
  {
   "cell_type": "markdown",
   "metadata": {},
   "source": [
    "## Exploratory data analysis"
   ]
  },
  {
   "cell_type": "markdown",
   "metadata": {},
   "source": [
    "The purpose of this notebook is analyse and prepare FIFA data in order to use it in Dash for Python.\n",
    "\n",
    "We will use the K-NN algorithm to find a player that matches the skills and stats of another one chosen by the user."
   ]
  },
  {
   "cell_type": "code",
   "execution_count": 3,
   "metadata": {},
   "outputs": [],
   "source": [
    "import pandas as pd\n",
    "import numpy as np\n",
    "import matplotlib.pyplot as plt\n",
    "import matplotlib\n",
    "matplotlib.rcParams.update({'font.size': 12})\n",
    "\n",
    "from sklearn.ensemble import GradientBoostingClassifier\n",
    "from sklearn.linear_model import LinearRegression\n",
    "\n",
    "from sklearn.feature_selection import SelectFromModel\n",
    "from sklearn.linear_model import LassoCV\n",
    "from matplotlib.colors import ListedColormap\n",
    "from sklearn import neighbors, datasets\n",
    "import pandas as pd\n",
    "import numpy as np\n",
    "import matplotlib.pyplot as plt\n",
    "import matplotlib\n",
    "matplotlib.rcParams.update({'font.size': 12})\n"
   ]
  },
  {
   "cell_type": "code",
   "execution_count": 5,
   "metadata": {},
   "outputs": [],
   "source": [
    "ruta = 'dataFIFA.csv'\n",
    "df = pd.read_csv(ruta)"
   ]
  },
  {
   "cell_type": "code",
   "execution_count": 6,
   "metadata": {
    "scrolled": true
   },
   "outputs": [
    {
     "name": "stdout",
     "output_type": "stream",
     "text": [
      "<class 'pandas.core.frame.DataFrame'>\n",
      "RangeIndex: 18207 entries, 0 to 18206\n",
      "Data columns (total 89 columns):\n",
      "Unnamed: 0                  18207 non-null int64\n",
      "ID                          18207 non-null int64\n",
      "Name                        18207 non-null object\n",
      "Age                         18207 non-null int64\n",
      "Photo                       18207 non-null object\n",
      "Nationality                 18207 non-null object\n",
      "Flag                        18207 non-null object\n",
      "Overall                     18207 non-null int64\n",
      "Potential                   18207 non-null int64\n",
      "Club                        17966 non-null object\n",
      "Club Logo                   18207 non-null object\n",
      "Value                       18207 non-null float64\n",
      "Wage                        18207 non-null int64\n",
      "Special                     18207 non-null int64\n",
      "Preferred Foot              18159 non-null object\n",
      "International Reputation    18159 non-null float64\n",
      "Weak Foot                   18159 non-null float64\n",
      "Skill Moves                 18159 non-null float64\n",
      "Work Rate                   18159 non-null object\n",
      "Body Type                   18159 non-null object\n",
      "Real Face                   18159 non-null object\n",
      "Position                    18147 non-null object\n",
      "Jersey Number               18147 non-null float64\n",
      "Joined                      16654 non-null object\n",
      "Loaned From                 1264 non-null object\n",
      "Contract Valid Until        17918 non-null object\n",
      "Height                      18159 non-null object\n",
      "Weight                      18159 non-null object\n",
      "LS                          16122 non-null float64\n",
      "ST                          16122 non-null float64\n",
      "RS                          16122 non-null float64\n",
      "LW                          16122 non-null float64\n",
      "LF                          16122 non-null float64\n",
      "CF                          16122 non-null float64\n",
      "RF                          16122 non-null float64\n",
      "RW                          16122 non-null float64\n",
      "LAM                         16122 non-null float64\n",
      "CAM                         16122 non-null float64\n",
      "RAM                         16122 non-null float64\n",
      "LM                          16122 non-null float64\n",
      "LCM                         16122 non-null float64\n",
      "CM                          16122 non-null float64\n",
      "RCM                         16122 non-null float64\n",
      "RM                          16122 non-null float64\n",
      "LWB                         16122 non-null float64\n",
      "LDM                         16122 non-null float64\n",
      "CDM                         16122 non-null float64\n",
      "RDM                         16122 non-null float64\n",
      "RWB                         16122 non-null float64\n",
      "LB                          16122 non-null float64\n",
      "LCB                         16122 non-null float64\n",
      "CB                          16122 non-null float64\n",
      "RCB                         16122 non-null float64\n",
      "RB                          16122 non-null float64\n",
      "Crossing                    18159 non-null float64\n",
      "Finishing                   18159 non-null float64\n",
      "HeadingAccuracy             18159 non-null float64\n",
      "ShortPassing                18159 non-null float64\n",
      "Volleys                     18159 non-null float64\n",
      "Dribbling                   18159 non-null float64\n",
      "Curve                       18159 non-null float64\n",
      "FKAccuracy                  18159 non-null float64\n",
      "LongPassing                 18159 non-null float64\n",
      "BallControl                 18159 non-null float64\n",
      "Acceleration                18159 non-null float64\n",
      "SprintSpeed                 18159 non-null float64\n",
      "Agility                     18159 non-null float64\n",
      "Reactions                   18159 non-null float64\n",
      "Balance                     18159 non-null float64\n",
      "ShotPower                   18159 non-null float64\n",
      "Jumping                     18159 non-null float64\n",
      "Stamina                     18159 non-null float64\n",
      "Strength                    18159 non-null float64\n",
      "LongShots                   18159 non-null float64\n",
      "Aggression                  18159 non-null float64\n",
      "Interceptions               18159 non-null float64\n",
      "Positioning                 18159 non-null float64\n",
      "Vision                      18159 non-null float64\n",
      "Penalties                   18159 non-null float64\n",
      "Composure                   18159 non-null float64\n",
      "Marking                     18159 non-null float64\n",
      "StandingTackle              18159 non-null float64\n",
      "SlidingTackle               18159 non-null float64\n",
      "GKDiving                    18159 non-null float64\n",
      "GKHandling                  18159 non-null float64\n",
      "GKKicking                   18159 non-null float64\n",
      "GKPositioning               18159 non-null float64\n",
      "GKReflexes                  18159 non-null float64\n",
      "Release Clause              16643 non-null float64\n",
      "dtypes: float64(66), int64(7), object(16)\n",
      "memory usage: 12.4+ MB\n"
     ]
    }
   ],
   "source": [
    "#To have an overview of the data\n",
    "df.info()"
   ]
  },
  {
   "cell_type": "markdown",
   "metadata": {},
   "source": [
    "## Load and observe the data"
   ]
  },
  {
   "cell_type": "markdown",
   "metadata": {},
   "source": [
    "Exploratory analysis of the first 10 data"
   ]
  },
  {
   "cell_type": "code",
   "execution_count": 7,
   "metadata": {},
   "outputs": [
    {
     "data": {
      "text/html": [
       "<div>\n",
       "<style scoped>\n",
       "    .dataframe tbody tr th:only-of-type {\n",
       "        vertical-align: middle;\n",
       "    }\n",
       "\n",
       "    .dataframe tbody tr th {\n",
       "        vertical-align: top;\n",
       "    }\n",
       "\n",
       "    .dataframe thead th {\n",
       "        text-align: right;\n",
       "    }\n",
       "</style>\n",
       "<table border=\"1\" class=\"dataframe\">\n",
       "  <thead>\n",
       "    <tr style=\"text-align: right;\">\n",
       "      <th></th>\n",
       "      <th>Unnamed: 0</th>\n",
       "      <th>ID</th>\n",
       "      <th>Name</th>\n",
       "      <th>Age</th>\n",
       "      <th>Photo</th>\n",
       "      <th>Nationality</th>\n",
       "      <th>Flag</th>\n",
       "      <th>Overall</th>\n",
       "      <th>Potential</th>\n",
       "      <th>Club</th>\n",
       "      <th>...</th>\n",
       "      <th>Composure</th>\n",
       "      <th>Marking</th>\n",
       "      <th>StandingTackle</th>\n",
       "      <th>SlidingTackle</th>\n",
       "      <th>GKDiving</th>\n",
       "      <th>GKHandling</th>\n",
       "      <th>GKKicking</th>\n",
       "      <th>GKPositioning</th>\n",
       "      <th>GKReflexes</th>\n",
       "      <th>Release Clause</th>\n",
       "    </tr>\n",
       "  </thead>\n",
       "  <tbody>\n",
       "    <tr>\n",
       "      <th>0</th>\n",
       "      <td>0</td>\n",
       "      <td>158023</td>\n",
       "      <td>L. Messi</td>\n",
       "      <td>31</td>\n",
       "      <td>https://cdn.sofifa.org/players/4/19/158023.png</td>\n",
       "      <td>Argentina</td>\n",
       "      <td>https://cdn.sofifa.org/flags/52.png</td>\n",
       "      <td>94</td>\n",
       "      <td>94</td>\n",
       "      <td>FC Barcelona</td>\n",
       "      <td>...</td>\n",
       "      <td>96.0</td>\n",
       "      <td>33.0</td>\n",
       "      <td>28.0</td>\n",
       "      <td>26.0</td>\n",
       "      <td>6.0</td>\n",
       "      <td>11.0</td>\n",
       "      <td>15.0</td>\n",
       "      <td>14.0</td>\n",
       "      <td>8.0</td>\n",
       "      <td>226.5</td>\n",
       "    </tr>\n",
       "    <tr>\n",
       "      <th>1</th>\n",
       "      <td>1</td>\n",
       "      <td>20801</td>\n",
       "      <td>Cristiano Ronaldo</td>\n",
       "      <td>33</td>\n",
       "      <td>https://cdn.sofifa.org/players/4/19/20801.png</td>\n",
       "      <td>Portugal</td>\n",
       "      <td>https://cdn.sofifa.org/flags/38.png</td>\n",
       "      <td>94</td>\n",
       "      <td>94</td>\n",
       "      <td>Juventus</td>\n",
       "      <td>...</td>\n",
       "      <td>95.0</td>\n",
       "      <td>28.0</td>\n",
       "      <td>31.0</td>\n",
       "      <td>23.0</td>\n",
       "      <td>7.0</td>\n",
       "      <td>11.0</td>\n",
       "      <td>15.0</td>\n",
       "      <td>14.0</td>\n",
       "      <td>11.0</td>\n",
       "      <td>127.1</td>\n",
       "    </tr>\n",
       "    <tr>\n",
       "      <th>2</th>\n",
       "      <td>2</td>\n",
       "      <td>190871</td>\n",
       "      <td>Neymar Jr</td>\n",
       "      <td>26</td>\n",
       "      <td>https://cdn.sofifa.org/players/4/19/190871.png</td>\n",
       "      <td>Brazil</td>\n",
       "      <td>https://cdn.sofifa.org/flags/54.png</td>\n",
       "      <td>92</td>\n",
       "      <td>93</td>\n",
       "      <td>Paris Saint-Germain</td>\n",
       "      <td>...</td>\n",
       "      <td>94.0</td>\n",
       "      <td>27.0</td>\n",
       "      <td>24.0</td>\n",
       "      <td>33.0</td>\n",
       "      <td>9.0</td>\n",
       "      <td>9.0</td>\n",
       "      <td>15.0</td>\n",
       "      <td>15.0</td>\n",
       "      <td>11.0</td>\n",
       "      <td>228.1</td>\n",
       "    </tr>\n",
       "    <tr>\n",
       "      <th>3</th>\n",
       "      <td>3</td>\n",
       "      <td>193080</td>\n",
       "      <td>De Gea</td>\n",
       "      <td>27</td>\n",
       "      <td>https://cdn.sofifa.org/players/4/19/193080.png</td>\n",
       "      <td>Spain</td>\n",
       "      <td>https://cdn.sofifa.org/flags/45.png</td>\n",
       "      <td>91</td>\n",
       "      <td>93</td>\n",
       "      <td>Manchester United</td>\n",
       "      <td>...</td>\n",
       "      <td>68.0</td>\n",
       "      <td>15.0</td>\n",
       "      <td>21.0</td>\n",
       "      <td>13.0</td>\n",
       "      <td>90.0</td>\n",
       "      <td>85.0</td>\n",
       "      <td>87.0</td>\n",
       "      <td>88.0</td>\n",
       "      <td>94.0</td>\n",
       "      <td>138.6</td>\n",
       "    </tr>\n",
       "    <tr>\n",
       "      <th>4</th>\n",
       "      <td>4</td>\n",
       "      <td>192985</td>\n",
       "      <td>K. De Bruyne</td>\n",
       "      <td>27</td>\n",
       "      <td>https://cdn.sofifa.org/players/4/19/192985.png</td>\n",
       "      <td>Belgium</td>\n",
       "      <td>https://cdn.sofifa.org/flags/7.png</td>\n",
       "      <td>91</td>\n",
       "      <td>92</td>\n",
       "      <td>Manchester City</td>\n",
       "      <td>...</td>\n",
       "      <td>88.0</td>\n",
       "      <td>68.0</td>\n",
       "      <td>58.0</td>\n",
       "      <td>51.0</td>\n",
       "      <td>15.0</td>\n",
       "      <td>13.0</td>\n",
       "      <td>5.0</td>\n",
       "      <td>10.0</td>\n",
       "      <td>13.0</td>\n",
       "      <td>196.4</td>\n",
       "    </tr>\n",
       "    <tr>\n",
       "      <th>5</th>\n",
       "      <td>5</td>\n",
       "      <td>183277</td>\n",
       "      <td>E. Hazard</td>\n",
       "      <td>27</td>\n",
       "      <td>https://cdn.sofifa.org/players/4/19/183277.png</td>\n",
       "      <td>Belgium</td>\n",
       "      <td>https://cdn.sofifa.org/flags/7.png</td>\n",
       "      <td>91</td>\n",
       "      <td>91</td>\n",
       "      <td>Chelsea</td>\n",
       "      <td>...</td>\n",
       "      <td>91.0</td>\n",
       "      <td>34.0</td>\n",
       "      <td>27.0</td>\n",
       "      <td>22.0</td>\n",
       "      <td>11.0</td>\n",
       "      <td>12.0</td>\n",
       "      <td>6.0</td>\n",
       "      <td>8.0</td>\n",
       "      <td>8.0</td>\n",
       "      <td>172.1</td>\n",
       "    </tr>\n",
       "    <tr>\n",
       "      <th>6</th>\n",
       "      <td>6</td>\n",
       "      <td>177003</td>\n",
       "      <td>L. Modrić</td>\n",
       "      <td>32</td>\n",
       "      <td>https://cdn.sofifa.org/players/4/19/177003.png</td>\n",
       "      <td>Croatia</td>\n",
       "      <td>https://cdn.sofifa.org/flags/10.png</td>\n",
       "      <td>91</td>\n",
       "      <td>91</td>\n",
       "      <td>Real Madrid</td>\n",
       "      <td>...</td>\n",
       "      <td>84.0</td>\n",
       "      <td>60.0</td>\n",
       "      <td>76.0</td>\n",
       "      <td>73.0</td>\n",
       "      <td>13.0</td>\n",
       "      <td>9.0</td>\n",
       "      <td>7.0</td>\n",
       "      <td>14.0</td>\n",
       "      <td>9.0</td>\n",
       "      <td>137.4</td>\n",
       "    </tr>\n",
       "    <tr>\n",
       "      <th>7</th>\n",
       "      <td>7</td>\n",
       "      <td>176580</td>\n",
       "      <td>L. Suárez</td>\n",
       "      <td>31</td>\n",
       "      <td>https://cdn.sofifa.org/players/4/19/176580.png</td>\n",
       "      <td>Uruguay</td>\n",
       "      <td>https://cdn.sofifa.org/flags/60.png</td>\n",
       "      <td>91</td>\n",
       "      <td>91</td>\n",
       "      <td>FC Barcelona</td>\n",
       "      <td>...</td>\n",
       "      <td>85.0</td>\n",
       "      <td>62.0</td>\n",
       "      <td>45.0</td>\n",
       "      <td>38.0</td>\n",
       "      <td>27.0</td>\n",
       "      <td>25.0</td>\n",
       "      <td>31.0</td>\n",
       "      <td>33.0</td>\n",
       "      <td>37.0</td>\n",
       "      <td>164.0</td>\n",
       "    </tr>\n",
       "    <tr>\n",
       "      <th>8</th>\n",
       "      <td>8</td>\n",
       "      <td>155862</td>\n",
       "      <td>Sergio Ramos</td>\n",
       "      <td>32</td>\n",
       "      <td>https://cdn.sofifa.org/players/4/19/155862.png</td>\n",
       "      <td>Spain</td>\n",
       "      <td>https://cdn.sofifa.org/flags/45.png</td>\n",
       "      <td>91</td>\n",
       "      <td>91</td>\n",
       "      <td>Real Madrid</td>\n",
       "      <td>...</td>\n",
       "      <td>82.0</td>\n",
       "      <td>87.0</td>\n",
       "      <td>92.0</td>\n",
       "      <td>91.0</td>\n",
       "      <td>11.0</td>\n",
       "      <td>8.0</td>\n",
       "      <td>9.0</td>\n",
       "      <td>7.0</td>\n",
       "      <td>11.0</td>\n",
       "      <td>104.6</td>\n",
       "    </tr>\n",
       "    <tr>\n",
       "      <th>9</th>\n",
       "      <td>9</td>\n",
       "      <td>200389</td>\n",
       "      <td>J. Oblak</td>\n",
       "      <td>25</td>\n",
       "      <td>https://cdn.sofifa.org/players/4/19/200389.png</td>\n",
       "      <td>Slovenia</td>\n",
       "      <td>https://cdn.sofifa.org/flags/44.png</td>\n",
       "      <td>90</td>\n",
       "      <td>93</td>\n",
       "      <td>Atlético Madrid</td>\n",
       "      <td>...</td>\n",
       "      <td>70.0</td>\n",
       "      <td>27.0</td>\n",
       "      <td>12.0</td>\n",
       "      <td>18.0</td>\n",
       "      <td>86.0</td>\n",
       "      <td>92.0</td>\n",
       "      <td>78.0</td>\n",
       "      <td>88.0</td>\n",
       "      <td>89.0</td>\n",
       "      <td>144.5</td>\n",
       "    </tr>\n",
       "  </tbody>\n",
       "</table>\n",
       "<p>10 rows × 89 columns</p>\n",
       "</div>"
      ],
      "text/plain": [
       "   Unnamed: 0      ID               Name  Age  \\\n",
       "0           0  158023           L. Messi   31   \n",
       "1           1   20801  Cristiano Ronaldo   33   \n",
       "2           2  190871          Neymar Jr   26   \n",
       "3           3  193080             De Gea   27   \n",
       "4           4  192985       K. De Bruyne   27   \n",
       "5           5  183277          E. Hazard   27   \n",
       "6           6  177003          L. Modrić   32   \n",
       "7           7  176580          L. Suárez   31   \n",
       "8           8  155862       Sergio Ramos   32   \n",
       "9           9  200389           J. Oblak   25   \n",
       "\n",
       "                                            Photo Nationality  \\\n",
       "0  https://cdn.sofifa.org/players/4/19/158023.png   Argentina   \n",
       "1   https://cdn.sofifa.org/players/4/19/20801.png    Portugal   \n",
       "2  https://cdn.sofifa.org/players/4/19/190871.png      Brazil   \n",
       "3  https://cdn.sofifa.org/players/4/19/193080.png       Spain   \n",
       "4  https://cdn.sofifa.org/players/4/19/192985.png     Belgium   \n",
       "5  https://cdn.sofifa.org/players/4/19/183277.png     Belgium   \n",
       "6  https://cdn.sofifa.org/players/4/19/177003.png     Croatia   \n",
       "7  https://cdn.sofifa.org/players/4/19/176580.png     Uruguay   \n",
       "8  https://cdn.sofifa.org/players/4/19/155862.png       Spain   \n",
       "9  https://cdn.sofifa.org/players/4/19/200389.png    Slovenia   \n",
       "\n",
       "                                  Flag  Overall  Potential  \\\n",
       "0  https://cdn.sofifa.org/flags/52.png       94         94   \n",
       "1  https://cdn.sofifa.org/flags/38.png       94         94   \n",
       "2  https://cdn.sofifa.org/flags/54.png       92         93   \n",
       "3  https://cdn.sofifa.org/flags/45.png       91         93   \n",
       "4   https://cdn.sofifa.org/flags/7.png       91         92   \n",
       "5   https://cdn.sofifa.org/flags/7.png       91         91   \n",
       "6  https://cdn.sofifa.org/flags/10.png       91         91   \n",
       "7  https://cdn.sofifa.org/flags/60.png       91         91   \n",
       "8  https://cdn.sofifa.org/flags/45.png       91         91   \n",
       "9  https://cdn.sofifa.org/flags/44.png       90         93   \n",
       "\n",
       "                  Club      ...       Composure  Marking  StandingTackle  \\\n",
       "0         FC Barcelona      ...            96.0     33.0            28.0   \n",
       "1             Juventus      ...            95.0     28.0            31.0   \n",
       "2  Paris Saint-Germain      ...            94.0     27.0            24.0   \n",
       "3    Manchester United      ...            68.0     15.0            21.0   \n",
       "4      Manchester City      ...            88.0     68.0            58.0   \n",
       "5              Chelsea      ...            91.0     34.0            27.0   \n",
       "6          Real Madrid      ...            84.0     60.0            76.0   \n",
       "7         FC Barcelona      ...            85.0     62.0            45.0   \n",
       "8          Real Madrid      ...            82.0     87.0            92.0   \n",
       "9      Atlético Madrid      ...            70.0     27.0            12.0   \n",
       "\n",
       "   SlidingTackle GKDiving  GKHandling  GKKicking  GKPositioning GKReflexes  \\\n",
       "0           26.0      6.0        11.0       15.0           14.0        8.0   \n",
       "1           23.0      7.0        11.0       15.0           14.0       11.0   \n",
       "2           33.0      9.0         9.0       15.0           15.0       11.0   \n",
       "3           13.0     90.0        85.0       87.0           88.0       94.0   \n",
       "4           51.0     15.0        13.0        5.0           10.0       13.0   \n",
       "5           22.0     11.0        12.0        6.0            8.0        8.0   \n",
       "6           73.0     13.0         9.0        7.0           14.0        9.0   \n",
       "7           38.0     27.0        25.0       31.0           33.0       37.0   \n",
       "8           91.0     11.0         8.0        9.0            7.0       11.0   \n",
       "9           18.0     86.0        92.0       78.0           88.0       89.0   \n",
       "\n",
       "  Release Clause  \n",
       "0          226.5  \n",
       "1          127.1  \n",
       "2          228.1  \n",
       "3          138.6  \n",
       "4          196.4  \n",
       "5          172.1  \n",
       "6          137.4  \n",
       "7          164.0  \n",
       "8          104.6  \n",
       "9          144.5  \n",
       "\n",
       "[10 rows x 89 columns]"
      ]
     },
     "execution_count": 7,
     "metadata": {},
     "output_type": "execute_result"
    }
   ],
   "source": [
    "df.head(10)"
   ]
  },
  {
   "cell_type": "markdown",
   "metadata": {},
   "source": [
    "Exploratory analysis of the last 10 data"
   ]
  },
  {
   "cell_type": "code",
   "execution_count": 8,
   "metadata": {},
   "outputs": [
    {
     "data": {
      "text/html": [
       "<div>\n",
       "<style scoped>\n",
       "    .dataframe tbody tr th:only-of-type {\n",
       "        vertical-align: middle;\n",
       "    }\n",
       "\n",
       "    .dataframe tbody tr th {\n",
       "        vertical-align: top;\n",
       "    }\n",
       "\n",
       "    .dataframe thead th {\n",
       "        text-align: right;\n",
       "    }\n",
       "</style>\n",
       "<table border=\"1\" class=\"dataframe\">\n",
       "  <thead>\n",
       "    <tr style=\"text-align: right;\">\n",
       "      <th></th>\n",
       "      <th>Unnamed: 0</th>\n",
       "      <th>ID</th>\n",
       "      <th>Name</th>\n",
       "      <th>Age</th>\n",
       "      <th>Photo</th>\n",
       "      <th>Nationality</th>\n",
       "      <th>Flag</th>\n",
       "      <th>Overall</th>\n",
       "      <th>Potential</th>\n",
       "      <th>Club</th>\n",
       "      <th>...</th>\n",
       "      <th>Composure</th>\n",
       "      <th>Marking</th>\n",
       "      <th>StandingTackle</th>\n",
       "      <th>SlidingTackle</th>\n",
       "      <th>GKDiving</th>\n",
       "      <th>GKHandling</th>\n",
       "      <th>GKKicking</th>\n",
       "      <th>GKPositioning</th>\n",
       "      <th>GKReflexes</th>\n",
       "      <th>Release Clause</th>\n",
       "    </tr>\n",
       "  </thead>\n",
       "  <tbody>\n",
       "    <tr>\n",
       "      <th>18197</th>\n",
       "      <td>18197</td>\n",
       "      <td>246167</td>\n",
       "      <td>D. Holland</td>\n",
       "      <td>18</td>\n",
       "      <td>https://cdn.sofifa.org/players/4/19/246167.png</td>\n",
       "      <td>Republic of Ireland</td>\n",
       "      <td>https://cdn.sofifa.org/flags/25.png</td>\n",
       "      <td>47</td>\n",
       "      <td>61</td>\n",
       "      <td>Cork City</td>\n",
       "      <td>...</td>\n",
       "      <td>52.0</td>\n",
       "      <td>41.0</td>\n",
       "      <td>47.0</td>\n",
       "      <td>38.0</td>\n",
       "      <td>13.0</td>\n",
       "      <td>6.0</td>\n",
       "      <td>9.0</td>\n",
       "      <td>10.0</td>\n",
       "      <td>15.0</td>\n",
       "      <td>88.0</td>\n",
       "    </tr>\n",
       "    <tr>\n",
       "      <th>18198</th>\n",
       "      <td>18198</td>\n",
       "      <td>242844</td>\n",
       "      <td>J. Livesey</td>\n",
       "      <td>18</td>\n",
       "      <td>https://cdn.sofifa.org/players/4/19/242844.png</td>\n",
       "      <td>England</td>\n",
       "      <td>https://cdn.sofifa.org/flags/14.png</td>\n",
       "      <td>47</td>\n",
       "      <td>70</td>\n",
       "      <td>Burton Albion</td>\n",
       "      <td>...</td>\n",
       "      <td>34.0</td>\n",
       "      <td>15.0</td>\n",
       "      <td>11.0</td>\n",
       "      <td>13.0</td>\n",
       "      <td>46.0</td>\n",
       "      <td>52.0</td>\n",
       "      <td>58.0</td>\n",
       "      <td>42.0</td>\n",
       "      <td>48.0</td>\n",
       "      <td>165.0</td>\n",
       "    </tr>\n",
       "    <tr>\n",
       "      <th>18199</th>\n",
       "      <td>18199</td>\n",
       "      <td>244677</td>\n",
       "      <td>M. Baldisimo</td>\n",
       "      <td>18</td>\n",
       "      <td>https://cdn.sofifa.org/players/4/19/244677.png</td>\n",
       "      <td>Canada</td>\n",
       "      <td>https://cdn.sofifa.org/flags/70.png</td>\n",
       "      <td>47</td>\n",
       "      <td>69</td>\n",
       "      <td>Vancouver Whitecaps FC</td>\n",
       "      <td>...</td>\n",
       "      <td>40.0</td>\n",
       "      <td>48.0</td>\n",
       "      <td>49.0</td>\n",
       "      <td>49.0</td>\n",
       "      <td>7.0</td>\n",
       "      <td>7.0</td>\n",
       "      <td>9.0</td>\n",
       "      <td>14.0</td>\n",
       "      <td>15.0</td>\n",
       "      <td>175.0</td>\n",
       "    </tr>\n",
       "    <tr>\n",
       "      <th>18200</th>\n",
       "      <td>18200</td>\n",
       "      <td>231381</td>\n",
       "      <td>J. Young</td>\n",
       "      <td>18</td>\n",
       "      <td>https://cdn.sofifa.org/players/4/19/231381.png</td>\n",
       "      <td>Scotland</td>\n",
       "      <td>https://cdn.sofifa.org/flags/42.png</td>\n",
       "      <td>47</td>\n",
       "      <td>62</td>\n",
       "      <td>Swindon Town</td>\n",
       "      <td>...</td>\n",
       "      <td>50.0</td>\n",
       "      <td>15.0</td>\n",
       "      <td>17.0</td>\n",
       "      <td>14.0</td>\n",
       "      <td>11.0</td>\n",
       "      <td>15.0</td>\n",
       "      <td>12.0</td>\n",
       "      <td>12.0</td>\n",
       "      <td>11.0</td>\n",
       "      <td>143.0</td>\n",
       "    </tr>\n",
       "    <tr>\n",
       "      <th>18201</th>\n",
       "      <td>18201</td>\n",
       "      <td>243413</td>\n",
       "      <td>D. Walsh</td>\n",
       "      <td>18</td>\n",
       "      <td>https://cdn.sofifa.org/players/4/19/243413.png</td>\n",
       "      <td>Republic of Ireland</td>\n",
       "      <td>https://cdn.sofifa.org/flags/25.png</td>\n",
       "      <td>47</td>\n",
       "      <td>68</td>\n",
       "      <td>Waterford FC</td>\n",
       "      <td>...</td>\n",
       "      <td>43.0</td>\n",
       "      <td>44.0</td>\n",
       "      <td>47.0</td>\n",
       "      <td>53.0</td>\n",
       "      <td>9.0</td>\n",
       "      <td>10.0</td>\n",
       "      <td>9.0</td>\n",
       "      <td>11.0</td>\n",
       "      <td>13.0</td>\n",
       "      <td>153.0</td>\n",
       "    </tr>\n",
       "    <tr>\n",
       "      <th>18202</th>\n",
       "      <td>18202</td>\n",
       "      <td>238813</td>\n",
       "      <td>J. Lundstram</td>\n",
       "      <td>19</td>\n",
       "      <td>https://cdn.sofifa.org/players/4/19/238813.png</td>\n",
       "      <td>England</td>\n",
       "      <td>https://cdn.sofifa.org/flags/14.png</td>\n",
       "      <td>47</td>\n",
       "      <td>65</td>\n",
       "      <td>Crewe Alexandra</td>\n",
       "      <td>...</td>\n",
       "      <td>45.0</td>\n",
       "      <td>40.0</td>\n",
       "      <td>48.0</td>\n",
       "      <td>47.0</td>\n",
       "      <td>10.0</td>\n",
       "      <td>13.0</td>\n",
       "      <td>7.0</td>\n",
       "      <td>8.0</td>\n",
       "      <td>9.0</td>\n",
       "      <td>143.0</td>\n",
       "    </tr>\n",
       "    <tr>\n",
       "      <th>18203</th>\n",
       "      <td>18203</td>\n",
       "      <td>243165</td>\n",
       "      <td>N. Christoffersson</td>\n",
       "      <td>19</td>\n",
       "      <td>https://cdn.sofifa.org/players/4/19/243165.png</td>\n",
       "      <td>Sweden</td>\n",
       "      <td>https://cdn.sofifa.org/flags/46.png</td>\n",
       "      <td>47</td>\n",
       "      <td>63</td>\n",
       "      <td>Trelleborgs FF</td>\n",
       "      <td>...</td>\n",
       "      <td>42.0</td>\n",
       "      <td>22.0</td>\n",
       "      <td>15.0</td>\n",
       "      <td>19.0</td>\n",
       "      <td>10.0</td>\n",
       "      <td>9.0</td>\n",
       "      <td>9.0</td>\n",
       "      <td>5.0</td>\n",
       "      <td>12.0</td>\n",
       "      <td>113.0</td>\n",
       "    </tr>\n",
       "    <tr>\n",
       "      <th>18204</th>\n",
       "      <td>18204</td>\n",
       "      <td>241638</td>\n",
       "      <td>B. Worman</td>\n",
       "      <td>16</td>\n",
       "      <td>https://cdn.sofifa.org/players/4/19/241638.png</td>\n",
       "      <td>England</td>\n",
       "      <td>https://cdn.sofifa.org/flags/14.png</td>\n",
       "      <td>47</td>\n",
       "      <td>67</td>\n",
       "      <td>Cambridge United</td>\n",
       "      <td>...</td>\n",
       "      <td>41.0</td>\n",
       "      <td>32.0</td>\n",
       "      <td>13.0</td>\n",
       "      <td>11.0</td>\n",
       "      <td>6.0</td>\n",
       "      <td>5.0</td>\n",
       "      <td>10.0</td>\n",
       "      <td>6.0</td>\n",
       "      <td>13.0</td>\n",
       "      <td>165.0</td>\n",
       "    </tr>\n",
       "    <tr>\n",
       "      <th>18205</th>\n",
       "      <td>18205</td>\n",
       "      <td>246268</td>\n",
       "      <td>D. Walker-Rice</td>\n",
       "      <td>17</td>\n",
       "      <td>https://cdn.sofifa.org/players/4/19/246268.png</td>\n",
       "      <td>England</td>\n",
       "      <td>https://cdn.sofifa.org/flags/14.png</td>\n",
       "      <td>47</td>\n",
       "      <td>66</td>\n",
       "      <td>Tranmere Rovers</td>\n",
       "      <td>...</td>\n",
       "      <td>46.0</td>\n",
       "      <td>20.0</td>\n",
       "      <td>25.0</td>\n",
       "      <td>27.0</td>\n",
       "      <td>14.0</td>\n",
       "      <td>6.0</td>\n",
       "      <td>14.0</td>\n",
       "      <td>8.0</td>\n",
       "      <td>9.0</td>\n",
       "      <td>143.0</td>\n",
       "    </tr>\n",
       "    <tr>\n",
       "      <th>18206</th>\n",
       "      <td>18206</td>\n",
       "      <td>246269</td>\n",
       "      <td>G. Nugent</td>\n",
       "      <td>16</td>\n",
       "      <td>https://cdn.sofifa.org/players/4/19/246269.png</td>\n",
       "      <td>England</td>\n",
       "      <td>https://cdn.sofifa.org/flags/14.png</td>\n",
       "      <td>46</td>\n",
       "      <td>66</td>\n",
       "      <td>Tranmere Rovers</td>\n",
       "      <td>...</td>\n",
       "      <td>43.0</td>\n",
       "      <td>40.0</td>\n",
       "      <td>43.0</td>\n",
       "      <td>50.0</td>\n",
       "      <td>10.0</td>\n",
       "      <td>15.0</td>\n",
       "      <td>9.0</td>\n",
       "      <td>12.0</td>\n",
       "      <td>9.0</td>\n",
       "      <td>165.0</td>\n",
       "    </tr>\n",
       "  </tbody>\n",
       "</table>\n",
       "<p>10 rows × 89 columns</p>\n",
       "</div>"
      ],
      "text/plain": [
       "       Unnamed: 0      ID                Name  Age  \\\n",
       "18197       18197  246167          D. Holland   18   \n",
       "18198       18198  242844          J. Livesey   18   \n",
       "18199       18199  244677        M. Baldisimo   18   \n",
       "18200       18200  231381            J. Young   18   \n",
       "18201       18201  243413            D. Walsh   18   \n",
       "18202       18202  238813        J. Lundstram   19   \n",
       "18203       18203  243165  N. Christoffersson   19   \n",
       "18204       18204  241638           B. Worman   16   \n",
       "18205       18205  246268      D. Walker-Rice   17   \n",
       "18206       18206  246269           G. Nugent   16   \n",
       "\n",
       "                                                Photo          Nationality  \\\n",
       "18197  https://cdn.sofifa.org/players/4/19/246167.png  Republic of Ireland   \n",
       "18198  https://cdn.sofifa.org/players/4/19/242844.png              England   \n",
       "18199  https://cdn.sofifa.org/players/4/19/244677.png               Canada   \n",
       "18200  https://cdn.sofifa.org/players/4/19/231381.png             Scotland   \n",
       "18201  https://cdn.sofifa.org/players/4/19/243413.png  Republic of Ireland   \n",
       "18202  https://cdn.sofifa.org/players/4/19/238813.png              England   \n",
       "18203  https://cdn.sofifa.org/players/4/19/243165.png               Sweden   \n",
       "18204  https://cdn.sofifa.org/players/4/19/241638.png              England   \n",
       "18205  https://cdn.sofifa.org/players/4/19/246268.png              England   \n",
       "18206  https://cdn.sofifa.org/players/4/19/246269.png              England   \n",
       "\n",
       "                                      Flag  Overall  Potential  \\\n",
       "18197  https://cdn.sofifa.org/flags/25.png       47         61   \n",
       "18198  https://cdn.sofifa.org/flags/14.png       47         70   \n",
       "18199  https://cdn.sofifa.org/flags/70.png       47         69   \n",
       "18200  https://cdn.sofifa.org/flags/42.png       47         62   \n",
       "18201  https://cdn.sofifa.org/flags/25.png       47         68   \n",
       "18202  https://cdn.sofifa.org/flags/14.png       47         65   \n",
       "18203  https://cdn.sofifa.org/flags/46.png       47         63   \n",
       "18204  https://cdn.sofifa.org/flags/14.png       47         67   \n",
       "18205  https://cdn.sofifa.org/flags/14.png       47         66   \n",
       "18206  https://cdn.sofifa.org/flags/14.png       46         66   \n",
       "\n",
       "                         Club      ...       Composure  Marking  \\\n",
       "18197               Cork City      ...            52.0     41.0   \n",
       "18198           Burton Albion      ...            34.0     15.0   \n",
       "18199  Vancouver Whitecaps FC      ...            40.0     48.0   \n",
       "18200            Swindon Town      ...            50.0     15.0   \n",
       "18201            Waterford FC      ...            43.0     44.0   \n",
       "18202         Crewe Alexandra      ...            45.0     40.0   \n",
       "18203          Trelleborgs FF      ...            42.0     22.0   \n",
       "18204        Cambridge United      ...            41.0     32.0   \n",
       "18205         Tranmere Rovers      ...            46.0     20.0   \n",
       "18206         Tranmere Rovers      ...            43.0     40.0   \n",
       "\n",
       "       StandingTackle  SlidingTackle GKDiving  GKHandling  GKKicking  \\\n",
       "18197            47.0           38.0     13.0         6.0        9.0   \n",
       "18198            11.0           13.0     46.0        52.0       58.0   \n",
       "18199            49.0           49.0      7.0         7.0        9.0   \n",
       "18200            17.0           14.0     11.0        15.0       12.0   \n",
       "18201            47.0           53.0      9.0        10.0        9.0   \n",
       "18202            48.0           47.0     10.0        13.0        7.0   \n",
       "18203            15.0           19.0     10.0         9.0        9.0   \n",
       "18204            13.0           11.0      6.0         5.0       10.0   \n",
       "18205            25.0           27.0     14.0         6.0       14.0   \n",
       "18206            43.0           50.0     10.0        15.0        9.0   \n",
       "\n",
       "       GKPositioning GKReflexes Release Clause  \n",
       "18197           10.0       15.0           88.0  \n",
       "18198           42.0       48.0          165.0  \n",
       "18199           14.0       15.0          175.0  \n",
       "18200           12.0       11.0          143.0  \n",
       "18201           11.0       13.0          153.0  \n",
       "18202            8.0        9.0          143.0  \n",
       "18203            5.0       12.0          113.0  \n",
       "18204            6.0       13.0          165.0  \n",
       "18205            8.0        9.0          143.0  \n",
       "18206           12.0        9.0          165.0  \n",
       "\n",
       "[10 rows x 89 columns]"
      ]
     },
     "execution_count": 8,
     "metadata": {},
     "output_type": "execute_result"
    }
   ],
   "source": [
    "df.tail(10)"
   ]
  },
  {
   "cell_type": "markdown",
   "metadata": {},
   "source": [
    "The lenght of the dataframe is 18207, showing the most representative players of all leagues and all countries."
   ]
  },
  {
   "cell_type": "code",
   "execution_count": 9,
   "metadata": {
    "scrolled": true
   },
   "outputs": [
    {
     "data": {
      "text/plain": [
       "18207"
      ]
     },
     "execution_count": 9,
     "metadata": {},
     "output_type": "execute_result"
    }
   ],
   "source": [
    "# The amount of our data\n",
    "len(df)"
   ]
  },
  {
   "cell_type": "markdown",
   "metadata": {},
   "source": [
    "We look at a random sample"
   ]
  },
  {
   "cell_type": "code",
   "execution_count": 10,
   "metadata": {},
   "outputs": [
    {
     "data": {
      "text/html": [
       "<div>\n",
       "<style scoped>\n",
       "    .dataframe tbody tr th:only-of-type {\n",
       "        vertical-align: middle;\n",
       "    }\n",
       "\n",
       "    .dataframe tbody tr th {\n",
       "        vertical-align: top;\n",
       "    }\n",
       "\n",
       "    .dataframe thead th {\n",
       "        text-align: right;\n",
       "    }\n",
       "</style>\n",
       "<table border=\"1\" class=\"dataframe\">\n",
       "  <thead>\n",
       "    <tr style=\"text-align: right;\">\n",
       "      <th></th>\n",
       "      <th>Unnamed: 0</th>\n",
       "      <th>ID</th>\n",
       "      <th>Name</th>\n",
       "      <th>Age</th>\n",
       "      <th>Photo</th>\n",
       "      <th>Nationality</th>\n",
       "      <th>Flag</th>\n",
       "      <th>Overall</th>\n",
       "      <th>Potential</th>\n",
       "      <th>Club</th>\n",
       "      <th>...</th>\n",
       "      <th>Composure</th>\n",
       "      <th>Marking</th>\n",
       "      <th>StandingTackle</th>\n",
       "      <th>SlidingTackle</th>\n",
       "      <th>GKDiving</th>\n",
       "      <th>GKHandling</th>\n",
       "      <th>GKKicking</th>\n",
       "      <th>GKPositioning</th>\n",
       "      <th>GKReflexes</th>\n",
       "      <th>Release Clause</th>\n",
       "    </tr>\n",
       "  </thead>\n",
       "  <tbody>\n",
       "    <tr>\n",
       "      <th>4555</th>\n",
       "      <td>4555</td>\n",
       "      <td>235717</td>\n",
       "      <td>B. Özcan</td>\n",
       "      <td>20</td>\n",
       "      <td>https://cdn.sofifa.org/players/4/19/235717.png</td>\n",
       "      <td>Turkey</td>\n",
       "      <td>https://cdn.sofifa.org/flags/48.png</td>\n",
       "      <td>71</td>\n",
       "      <td>78</td>\n",
       "      <td>VfB Stuttgart</td>\n",
       "      <td>...</td>\n",
       "      <td>65.0</td>\n",
       "      <td>31.0</td>\n",
       "      <td>34.0</td>\n",
       "      <td>46.0</td>\n",
       "      <td>11.0</td>\n",
       "      <td>12.0</td>\n",
       "      <td>11.0</td>\n",
       "      <td>13.0</td>\n",
       "      <td>13.0</td>\n",
       "      <td>6.4</td>\n",
       "    </tr>\n",
       "    <tr>\n",
       "      <th>12907</th>\n",
       "      <td>12907</td>\n",
       "      <td>238803</td>\n",
       "      <td>T. Baumgart</td>\n",
       "      <td>20</td>\n",
       "      <td>https://cdn.sofifa.org/players/4/19/238803.png</td>\n",
       "      <td>Germany</td>\n",
       "      <td>https://cdn.sofifa.org/flags/21.png</td>\n",
       "      <td>63</td>\n",
       "      <td>73</td>\n",
       "      <td>FC Erzgebirge Aue</td>\n",
       "      <td>...</td>\n",
       "      <td>47.0</td>\n",
       "      <td>39.0</td>\n",
       "      <td>26.0</td>\n",
       "      <td>27.0</td>\n",
       "      <td>14.0</td>\n",
       "      <td>12.0</td>\n",
       "      <td>7.0</td>\n",
       "      <td>7.0</td>\n",
       "      <td>13.0</td>\n",
       "      <td>1.1</td>\n",
       "    </tr>\n",
       "    <tr>\n",
       "      <th>479</th>\n",
       "      <td>479</td>\n",
       "      <td>199110</td>\n",
       "      <td>L. Muriel</td>\n",
       "      <td>27</td>\n",
       "      <td>https://cdn.sofifa.org/players/4/19/199110.png</td>\n",
       "      <td>Colombia</td>\n",
       "      <td>https://cdn.sofifa.org/flags/56.png</td>\n",
       "      <td>80</td>\n",
       "      <td>81</td>\n",
       "      <td>Sevilla FC</td>\n",
       "      <td>...</td>\n",
       "      <td>75.0</td>\n",
       "      <td>26.0</td>\n",
       "      <td>24.0</td>\n",
       "      <td>22.0</td>\n",
       "      <td>8.0</td>\n",
       "      <td>10.0</td>\n",
       "      <td>10.0</td>\n",
       "      <td>14.0</td>\n",
       "      <td>6.0</td>\n",
       "      <td>38.1</td>\n",
       "    </tr>\n",
       "    <tr>\n",
       "      <th>16887</th>\n",
       "      <td>16887</td>\n",
       "      <td>242088</td>\n",
       "      <td>Y. Wakizaka</td>\n",
       "      <td>23</td>\n",
       "      <td>https://cdn.sofifa.org/players/4/19/242088.png</td>\n",
       "      <td>Japan</td>\n",
       "      <td>https://cdn.sofifa.org/flags/163.png</td>\n",
       "      <td>56</td>\n",
       "      <td>60</td>\n",
       "      <td>Kawasaki Frontale</td>\n",
       "      <td>...</td>\n",
       "      <td>49.0</td>\n",
       "      <td>31.0</td>\n",
       "      <td>34.0</td>\n",
       "      <td>41.0</td>\n",
       "      <td>6.0</td>\n",
       "      <td>7.0</td>\n",
       "      <td>6.0</td>\n",
       "      <td>6.0</td>\n",
       "      <td>12.0</td>\n",
       "      <td>165.0</td>\n",
       "    </tr>\n",
       "    <tr>\n",
       "      <th>12964</th>\n",
       "      <td>12964</td>\n",
       "      <td>245219</td>\n",
       "      <td>Juan Hernández</td>\n",
       "      <td>23</td>\n",
       "      <td>https://cdn.sofifa.org/players/4/19/245219.png</td>\n",
       "      <td>Spain</td>\n",
       "      <td>https://cdn.sofifa.org/flags/45.png</td>\n",
       "      <td>63</td>\n",
       "      <td>68</td>\n",
       "      <td>Cádiz CF</td>\n",
       "      <td>...</td>\n",
       "      <td>55.0</td>\n",
       "      <td>24.0</td>\n",
       "      <td>23.0</td>\n",
       "      <td>26.0</td>\n",
       "      <td>7.0</td>\n",
       "      <td>9.0</td>\n",
       "      <td>7.0</td>\n",
       "      <td>10.0</td>\n",
       "      <td>8.0</td>\n",
       "      <td>NaN</td>\n",
       "    </tr>\n",
       "    <tr>\n",
       "      <th>3321</th>\n",
       "      <td>3321</td>\n",
       "      <td>239904</td>\n",
       "      <td>D. Khocholava</td>\n",
       "      <td>25</td>\n",
       "      <td>https://cdn.sofifa.org/players/4/19/239904.png</td>\n",
       "      <td>Georgia</td>\n",
       "      <td>https://cdn.sofifa.org/flags/20.png</td>\n",
       "      <td>72</td>\n",
       "      <td>75</td>\n",
       "      <td>Shakhtar Donetsk</td>\n",
       "      <td>...</td>\n",
       "      <td>63.0</td>\n",
       "      <td>68.0</td>\n",
       "      <td>70.0</td>\n",
       "      <td>73.0</td>\n",
       "      <td>10.0</td>\n",
       "      <td>9.0</td>\n",
       "      <td>7.0</td>\n",
       "      <td>9.0</td>\n",
       "      <td>5.0</td>\n",
       "      <td>7.1</td>\n",
       "    </tr>\n",
       "    <tr>\n",
       "      <th>4447</th>\n",
       "      <td>4447</td>\n",
       "      <td>220061</td>\n",
       "      <td>N. Gyömbér</td>\n",
       "      <td>25</td>\n",
       "      <td>https://cdn.sofifa.org/players/4/19/220061.png</td>\n",
       "      <td>Slovakia</td>\n",
       "      <td>https://cdn.sofifa.org/flags/43.png</td>\n",
       "      <td>71</td>\n",
       "      <td>74</td>\n",
       "      <td>Perugia</td>\n",
       "      <td>...</td>\n",
       "      <td>65.0</td>\n",
       "      <td>71.0</td>\n",
       "      <td>73.0</td>\n",
       "      <td>71.0</td>\n",
       "      <td>9.0</td>\n",
       "      <td>8.0</td>\n",
       "      <td>9.0</td>\n",
       "      <td>14.0</td>\n",
       "      <td>11.0</td>\n",
       "      <td>4.1</td>\n",
       "    </tr>\n",
       "    <tr>\n",
       "      <th>9491</th>\n",
       "      <td>9491</td>\n",
       "      <td>213407</td>\n",
       "      <td>M. Macey</td>\n",
       "      <td>23</td>\n",
       "      <td>https://cdn.sofifa.org/players/4/19/213407.png</td>\n",
       "      <td>England</td>\n",
       "      <td>https://cdn.sofifa.org/flags/14.png</td>\n",
       "      <td>66</td>\n",
       "      <td>74</td>\n",
       "      <td>Plymouth Argyle</td>\n",
       "      <td>...</td>\n",
       "      <td>52.0</td>\n",
       "      <td>11.0</td>\n",
       "      <td>11.0</td>\n",
       "      <td>14.0</td>\n",
       "      <td>63.0</td>\n",
       "      <td>66.0</td>\n",
       "      <td>67.0</td>\n",
       "      <td>64.0</td>\n",
       "      <td>68.0</td>\n",
       "      <td>NaN</td>\n",
       "    </tr>\n",
       "    <tr>\n",
       "      <th>3060</th>\n",
       "      <td>3060</td>\n",
       "      <td>199103</td>\n",
       "      <td>A. Domínguez</td>\n",
       "      <td>31</td>\n",
       "      <td>https://cdn.sofifa.org/players/4/19/199103.png</td>\n",
       "      <td>Ecuador</td>\n",
       "      <td>https://cdn.sofifa.org/flags/57.png</td>\n",
       "      <td>73</td>\n",
       "      <td>73</td>\n",
       "      <td>Vélez Sarsfield</td>\n",
       "      <td>...</td>\n",
       "      <td>59.0</td>\n",
       "      <td>18.0</td>\n",
       "      <td>20.0</td>\n",
       "      <td>19.0</td>\n",
       "      <td>74.0</td>\n",
       "      <td>66.0</td>\n",
       "      <td>67.0</td>\n",
       "      <td>70.0</td>\n",
       "      <td>74.0</td>\n",
       "      <td>3.6</td>\n",
       "    </tr>\n",
       "    <tr>\n",
       "      <th>3316</th>\n",
       "      <td>3316</td>\n",
       "      <td>205343</td>\n",
       "      <td>J. Akpa Akpro</td>\n",
       "      <td>25</td>\n",
       "      <td>https://cdn.sofifa.org/players/4/19/205343.png</td>\n",
       "      <td>Ivory Coast</td>\n",
       "      <td>https://cdn.sofifa.org/flags/108.png</td>\n",
       "      <td>72</td>\n",
       "      <td>75</td>\n",
       "      <td>US Salernitana 1919</td>\n",
       "      <td>...</td>\n",
       "      <td>71.0</td>\n",
       "      <td>63.0</td>\n",
       "      <td>74.0</td>\n",
       "      <td>69.0</td>\n",
       "      <td>7.0</td>\n",
       "      <td>10.0</td>\n",
       "      <td>9.0</td>\n",
       "      <td>9.0</td>\n",
       "      <td>8.0</td>\n",
       "      <td>6.4</td>\n",
       "    </tr>\n",
       "  </tbody>\n",
       "</table>\n",
       "<p>10 rows × 89 columns</p>\n",
       "</div>"
      ],
      "text/plain": [
       "       Unnamed: 0      ID            Name  Age  \\\n",
       "4555         4555  235717        B. Özcan   20   \n",
       "12907       12907  238803     T. Baumgart   20   \n",
       "479           479  199110       L. Muriel   27   \n",
       "16887       16887  242088     Y. Wakizaka   23   \n",
       "12964       12964  245219  Juan Hernández   23   \n",
       "3321         3321  239904   D. Khocholava   25   \n",
       "4447         4447  220061      N. Gyömbér   25   \n",
       "9491         9491  213407        M. Macey   23   \n",
       "3060         3060  199103    A. Domínguez   31   \n",
       "3316         3316  205343   J. Akpa Akpro   25   \n",
       "\n",
       "                                                Photo  Nationality  \\\n",
       "4555   https://cdn.sofifa.org/players/4/19/235717.png       Turkey   \n",
       "12907  https://cdn.sofifa.org/players/4/19/238803.png      Germany   \n",
       "479    https://cdn.sofifa.org/players/4/19/199110.png     Colombia   \n",
       "16887  https://cdn.sofifa.org/players/4/19/242088.png        Japan   \n",
       "12964  https://cdn.sofifa.org/players/4/19/245219.png        Spain   \n",
       "3321   https://cdn.sofifa.org/players/4/19/239904.png      Georgia   \n",
       "4447   https://cdn.sofifa.org/players/4/19/220061.png     Slovakia   \n",
       "9491   https://cdn.sofifa.org/players/4/19/213407.png      England   \n",
       "3060   https://cdn.sofifa.org/players/4/19/199103.png      Ecuador   \n",
       "3316   https://cdn.sofifa.org/players/4/19/205343.png  Ivory Coast   \n",
       "\n",
       "                                       Flag  Overall  Potential  \\\n",
       "4555    https://cdn.sofifa.org/flags/48.png       71         78   \n",
       "12907   https://cdn.sofifa.org/flags/21.png       63         73   \n",
       "479     https://cdn.sofifa.org/flags/56.png       80         81   \n",
       "16887  https://cdn.sofifa.org/flags/163.png       56         60   \n",
       "12964   https://cdn.sofifa.org/flags/45.png       63         68   \n",
       "3321    https://cdn.sofifa.org/flags/20.png       72         75   \n",
       "4447    https://cdn.sofifa.org/flags/43.png       71         74   \n",
       "9491    https://cdn.sofifa.org/flags/14.png       66         74   \n",
       "3060    https://cdn.sofifa.org/flags/57.png       73         73   \n",
       "3316   https://cdn.sofifa.org/flags/108.png       72         75   \n",
       "\n",
       "                      Club      ...       Composure  Marking  StandingTackle  \\\n",
       "4555         VfB Stuttgart      ...            65.0     31.0            34.0   \n",
       "12907    FC Erzgebirge Aue      ...            47.0     39.0            26.0   \n",
       "479             Sevilla FC      ...            75.0     26.0            24.0   \n",
       "16887    Kawasaki Frontale      ...            49.0     31.0            34.0   \n",
       "12964             Cádiz CF      ...            55.0     24.0            23.0   \n",
       "3321      Shakhtar Donetsk      ...            63.0     68.0            70.0   \n",
       "4447               Perugia      ...            65.0     71.0            73.0   \n",
       "9491       Plymouth Argyle      ...            52.0     11.0            11.0   \n",
       "3060       Vélez Sarsfield      ...            59.0     18.0            20.0   \n",
       "3316   US Salernitana 1919      ...            71.0     63.0            74.0   \n",
       "\n",
       "       SlidingTackle GKDiving  GKHandling  GKKicking  GKPositioning  \\\n",
       "4555            46.0     11.0        12.0       11.0           13.0   \n",
       "12907           27.0     14.0        12.0        7.0            7.0   \n",
       "479             22.0      8.0        10.0       10.0           14.0   \n",
       "16887           41.0      6.0         7.0        6.0            6.0   \n",
       "12964           26.0      7.0         9.0        7.0           10.0   \n",
       "3321            73.0     10.0         9.0        7.0            9.0   \n",
       "4447            71.0      9.0         8.0        9.0           14.0   \n",
       "9491            14.0     63.0        66.0       67.0           64.0   \n",
       "3060            19.0     74.0        66.0       67.0           70.0   \n",
       "3316            69.0      7.0        10.0        9.0            9.0   \n",
       "\n",
       "      GKReflexes Release Clause  \n",
       "4555        13.0            6.4  \n",
       "12907       13.0            1.1  \n",
       "479          6.0           38.1  \n",
       "16887       12.0          165.0  \n",
       "12964        8.0            NaN  \n",
       "3321         5.0            7.1  \n",
       "4447        11.0            4.1  \n",
       "9491        68.0            NaN  \n",
       "3060        74.0            3.6  \n",
       "3316         8.0            6.4  \n",
       "\n",
       "[10 rows x 89 columns]"
      ]
     },
     "execution_count": 10,
     "metadata": {},
     "output_type": "execute_result"
    }
   ],
   "source": [
    "df.sample(10)"
   ]
  },
  {
   "cell_type": "markdown",
   "metadata": {},
   "source": [
    "We look for NA."
   ]
  },
  {
   "cell_type": "code",
   "execution_count": 11,
   "metadata": {
    "scrolled": true
   },
   "outputs": [
    {
     "data": {
      "text/plain": [
       "Unnamed: 0                      0\n",
       "ID                              0\n",
       "Name                            0\n",
       "Age                             0\n",
       "Photo                           0\n",
       "Nationality                     0\n",
       "Flag                            0\n",
       "Overall                         0\n",
       "Potential                       0\n",
       "Club                          241\n",
       "Club Logo                       0\n",
       "Value                           0\n",
       "Wage                            0\n",
       "Special                         0\n",
       "Preferred Foot                 48\n",
       "International Reputation       48\n",
       "Weak Foot                      48\n",
       "Skill Moves                    48\n",
       "Work Rate                      48\n",
       "Body Type                      48\n",
       "Real Face                      48\n",
       "Position                       60\n",
       "Jersey Number                  60\n",
       "Joined                       1553\n",
       "Loaned From                 16943\n",
       "Contract Valid Until          289\n",
       "Height                         48\n",
       "Weight                         48\n",
       "LS                           2085\n",
       "ST                           2085\n",
       "                            ...  \n",
       "Dribbling                      48\n",
       "Curve                          48\n",
       "FKAccuracy                     48\n",
       "LongPassing                    48\n",
       "BallControl                    48\n",
       "Acceleration                   48\n",
       "SprintSpeed                    48\n",
       "Agility                        48\n",
       "Reactions                      48\n",
       "Balance                        48\n",
       "ShotPower                      48\n",
       "Jumping                        48\n",
       "Stamina                        48\n",
       "Strength                       48\n",
       "LongShots                      48\n",
       "Aggression                     48\n",
       "Interceptions                  48\n",
       "Positioning                    48\n",
       "Vision                         48\n",
       "Penalties                      48\n",
       "Composure                      48\n",
       "Marking                        48\n",
       "StandingTackle                 48\n",
       "SlidingTackle                  48\n",
       "GKDiving                       48\n",
       "GKHandling                     48\n",
       "GKKicking                      48\n",
       "GKPositioning                  48\n",
       "GKReflexes                     48\n",
       "Release Clause               1564\n",
       "Length: 89, dtype: int64"
      ]
     },
     "execution_count": 11,
     "metadata": {},
     "output_type": "execute_result"
    }
   ],
   "source": [
    "df.isna().sum()"
   ]
  },
  {
   "cell_type": "code",
   "execution_count": 15,
   "metadata": {},
   "outputs": [
    {
     "data": {
      "text/plain": [
       "Unnamed: 0                    int64\n",
       "ID                            int64\n",
       "Name                         object\n",
       "Age                           int64\n",
       "Photo                        object\n",
       "Nationality                  object\n",
       "Flag                         object\n",
       "Overall                       int64\n",
       "Potential                     int64\n",
       "Club                         object\n",
       "Club Logo                    object\n",
       "Value                       float64\n",
       "Wage                          int64\n",
       "Special                       int64\n",
       "Preferred Foot               object\n",
       "International Reputation    float64\n",
       "Weak Foot                   float64\n",
       "Skill Moves                 float64\n",
       "Work Rate                    object\n",
       "Body Type                    object\n",
       "Real Face                    object\n",
       "Position                     object\n",
       "Jersey Number               float64\n",
       "Joined                       object\n",
       "Loaned From                  object\n",
       "Contract Valid Until         object\n",
       "Height                       object\n",
       "Weight                       object\n",
       "LS                          float64\n",
       "ST                          float64\n",
       "                             ...   \n",
       "Dribbling                   float64\n",
       "Curve                       float64\n",
       "FKAccuracy                  float64\n",
       "LongPassing                 float64\n",
       "BallControl                 float64\n",
       "Acceleration                float64\n",
       "SprintSpeed                 float64\n",
       "Agility                     float64\n",
       "Reactions                   float64\n",
       "Balance                     float64\n",
       "ShotPower                   float64\n",
       "Jumping                     float64\n",
       "Stamina                     float64\n",
       "Strength                    float64\n",
       "LongShots                   float64\n",
       "Aggression                  float64\n",
       "Interceptions               float64\n",
       "Positioning                 float64\n",
       "Vision                      float64\n",
       "Penalties                   float64\n",
       "Composure                   float64\n",
       "Marking                     float64\n",
       "StandingTackle              float64\n",
       "SlidingTackle               float64\n",
       "GKDiving                    float64\n",
       "GKHandling                  float64\n",
       "GKKicking                   float64\n",
       "GKPositioning               float64\n",
       "GKReflexes                  float64\n",
       "Release Clause              float64\n",
       "Length: 89, dtype: object"
      ]
     },
     "execution_count": 15,
     "metadata": {},
     "output_type": "execute_result"
    }
   ],
   "source": [
    "#The data types of each column\n",
    "df.dtypes"
   ]
  },
  {
   "cell_type": "markdown",
   "metadata": {},
   "source": [
    "As we can see Python is a great language for doing data analysis, primarily because of the fantastic ecosystem of data-centric Python packages.\n"
   ]
  },
  {
   "cell_type": "code",
   "execution_count": 16,
   "metadata": {},
   "outputs": [
    {
     "data": {
      "text/html": [
       "<div>\n",
       "<style scoped>\n",
       "    .dataframe tbody tr th:only-of-type {\n",
       "        vertical-align: middle;\n",
       "    }\n",
       "\n",
       "    .dataframe tbody tr th {\n",
       "        vertical-align: top;\n",
       "    }\n",
       "\n",
       "    .dataframe thead th {\n",
       "        text-align: right;\n",
       "    }\n",
       "</style>\n",
       "<table border=\"1\" class=\"dataframe\">\n",
       "  <thead>\n",
       "    <tr style=\"text-align: right;\">\n",
       "      <th></th>\n",
       "      <th>Unnamed: 0</th>\n",
       "      <th>ID</th>\n",
       "      <th>Age</th>\n",
       "      <th>Overall</th>\n",
       "      <th>Potential</th>\n",
       "      <th>Value</th>\n",
       "      <th>Wage</th>\n",
       "      <th>Special</th>\n",
       "      <th>International Reputation</th>\n",
       "      <th>Weak Foot</th>\n",
       "      <th>...</th>\n",
       "      <th>Composure</th>\n",
       "      <th>Marking</th>\n",
       "      <th>StandingTackle</th>\n",
       "      <th>SlidingTackle</th>\n",
       "      <th>GKDiving</th>\n",
       "      <th>GKHandling</th>\n",
       "      <th>GKKicking</th>\n",
       "      <th>GKPositioning</th>\n",
       "      <th>GKReflexes</th>\n",
       "      <th>Release Clause</th>\n",
       "    </tr>\n",
       "  </thead>\n",
       "  <tbody>\n",
       "    <tr>\n",
       "      <th>count</th>\n",
       "      <td>18207.000000</td>\n",
       "      <td>18207.000000</td>\n",
       "      <td>18207.000000</td>\n",
       "      <td>18207.000000</td>\n",
       "      <td>18207.000000</td>\n",
       "      <td>18207.000000</td>\n",
       "      <td>18207.000000</td>\n",
       "      <td>18207.000000</td>\n",
       "      <td>18159.000000</td>\n",
       "      <td>18159.000000</td>\n",
       "      <td>...</td>\n",
       "      <td>18159.000000</td>\n",
       "      <td>18159.000000</td>\n",
       "      <td>18159.000000</td>\n",
       "      <td>18159.000000</td>\n",
       "      <td>18159.000000</td>\n",
       "      <td>18159.000000</td>\n",
       "      <td>18159.000000</td>\n",
       "      <td>18159.000000</td>\n",
       "      <td>18159.000000</td>\n",
       "      <td>16643.000000</td>\n",
       "    </tr>\n",
       "    <tr>\n",
       "      <th>mean</th>\n",
       "      <td>9103.000000</td>\n",
       "      <td>214298.338606</td>\n",
       "      <td>25.122206</td>\n",
       "      <td>66.238699</td>\n",
       "      <td>71.307299</td>\n",
       "      <td>265.026929</td>\n",
       "      <td>9.731312</td>\n",
       "      <td>1597.809908</td>\n",
       "      <td>1.113222</td>\n",
       "      <td>2.947299</td>\n",
       "      <td>...</td>\n",
       "      <td>58.648274</td>\n",
       "      <td>47.281623</td>\n",
       "      <td>47.697836</td>\n",
       "      <td>45.661435</td>\n",
       "      <td>16.616223</td>\n",
       "      <td>16.391596</td>\n",
       "      <td>16.232061</td>\n",
       "      <td>16.388898</td>\n",
       "      <td>16.710887</td>\n",
       "      <td>228.201274</td>\n",
       "    </tr>\n",
       "    <tr>\n",
       "      <th>std</th>\n",
       "      <td>5256.052511</td>\n",
       "      <td>29965.244204</td>\n",
       "      <td>4.669943</td>\n",
       "      <td>6.908930</td>\n",
       "      <td>6.136496</td>\n",
       "      <td>289.564928</td>\n",
       "      <td>21.999290</td>\n",
       "      <td>272.586016</td>\n",
       "      <td>0.394031</td>\n",
       "      <td>0.660456</td>\n",
       "      <td>...</td>\n",
       "      <td>11.436133</td>\n",
       "      <td>19.904397</td>\n",
       "      <td>21.664004</td>\n",
       "      <td>21.289135</td>\n",
       "      <td>17.695349</td>\n",
       "      <td>16.906900</td>\n",
       "      <td>16.502864</td>\n",
       "      <td>17.034669</td>\n",
       "      <td>17.955119</td>\n",
       "      <td>299.251866</td>\n",
       "    </tr>\n",
       "    <tr>\n",
       "      <th>min</th>\n",
       "      <td>0.000000</td>\n",
       "      <td>16.000000</td>\n",
       "      <td>16.000000</td>\n",
       "      <td>46.000000</td>\n",
       "      <td>48.000000</td>\n",
       "      <td>0.000000</td>\n",
       "      <td>0.000000</td>\n",
       "      <td>731.000000</td>\n",
       "      <td>1.000000</td>\n",
       "      <td>1.000000</td>\n",
       "      <td>...</td>\n",
       "      <td>3.000000</td>\n",
       "      <td>3.000000</td>\n",
       "      <td>2.000000</td>\n",
       "      <td>3.000000</td>\n",
       "      <td>1.000000</td>\n",
       "      <td>1.000000</td>\n",
       "      <td>1.000000</td>\n",
       "      <td>1.000000</td>\n",
       "      <td>1.000000</td>\n",
       "      <td>1.000000</td>\n",
       "    </tr>\n",
       "    <tr>\n",
       "      <th>25%</th>\n",
       "      <td>4551.500000</td>\n",
       "      <td>200315.500000</td>\n",
       "      <td>21.000000</td>\n",
       "      <td>62.000000</td>\n",
       "      <td>67.000000</td>\n",
       "      <td>4.400000</td>\n",
       "      <td>1.000000</td>\n",
       "      <td>1457.000000</td>\n",
       "      <td>1.000000</td>\n",
       "      <td>3.000000</td>\n",
       "      <td>...</td>\n",
       "      <td>51.000000</td>\n",
       "      <td>30.000000</td>\n",
       "      <td>27.000000</td>\n",
       "      <td>24.000000</td>\n",
       "      <td>8.000000</td>\n",
       "      <td>8.000000</td>\n",
       "      <td>8.000000</td>\n",
       "      <td>8.000000</td>\n",
       "      <td>8.000000</td>\n",
       "      <td>2.500000</td>\n",
       "    </tr>\n",
       "    <tr>\n",
       "      <th>50%</th>\n",
       "      <td>9103.000000</td>\n",
       "      <td>221759.000000</td>\n",
       "      <td>25.000000</td>\n",
       "      <td>66.000000</td>\n",
       "      <td>71.000000</td>\n",
       "      <td>160.000000</td>\n",
       "      <td>3.000000</td>\n",
       "      <td>1635.000000</td>\n",
       "      <td>1.000000</td>\n",
       "      <td>3.000000</td>\n",
       "      <td>...</td>\n",
       "      <td>60.000000</td>\n",
       "      <td>53.000000</td>\n",
       "      <td>55.000000</td>\n",
       "      <td>52.000000</td>\n",
       "      <td>11.000000</td>\n",
       "      <td>11.000000</td>\n",
       "      <td>11.000000</td>\n",
       "      <td>11.000000</td>\n",
       "      <td>11.000000</td>\n",
       "      <td>19.800000</td>\n",
       "    </tr>\n",
       "    <tr>\n",
       "      <th>75%</th>\n",
       "      <td>13654.500000</td>\n",
       "      <td>236529.500000</td>\n",
       "      <td>28.000000</td>\n",
       "      <td>71.000000</td>\n",
       "      <td>75.000000</td>\n",
       "      <td>475.000000</td>\n",
       "      <td>9.000000</td>\n",
       "      <td>1787.000000</td>\n",
       "      <td>1.000000</td>\n",
       "      <td>3.000000</td>\n",
       "      <td>...</td>\n",
       "      <td>67.000000</td>\n",
       "      <td>64.000000</td>\n",
       "      <td>66.000000</td>\n",
       "      <td>64.000000</td>\n",
       "      <td>14.000000</td>\n",
       "      <td>14.000000</td>\n",
       "      <td>14.000000</td>\n",
       "      <td>14.000000</td>\n",
       "      <td>14.000000</td>\n",
       "      <td>431.000000</td>\n",
       "    </tr>\n",
       "    <tr>\n",
       "      <th>max</th>\n",
       "      <td>18206.000000</td>\n",
       "      <td>246620.000000</td>\n",
       "      <td>45.000000</td>\n",
       "      <td>94.000000</td>\n",
       "      <td>95.000000</td>\n",
       "      <td>975.000000</td>\n",
       "      <td>565.000000</td>\n",
       "      <td>2346.000000</td>\n",
       "      <td>5.000000</td>\n",
       "      <td>5.000000</td>\n",
       "      <td>...</td>\n",
       "      <td>96.000000</td>\n",
       "      <td>94.000000</td>\n",
       "      <td>93.000000</td>\n",
       "      <td>91.000000</td>\n",
       "      <td>90.000000</td>\n",
       "      <td>92.000000</td>\n",
       "      <td>91.000000</td>\n",
       "      <td>90.000000</td>\n",
       "      <td>94.000000</td>\n",
       "      <td>999.000000</td>\n",
       "    </tr>\n",
       "  </tbody>\n",
       "</table>\n",
       "<p>8 rows × 73 columns</p>\n",
       "</div>"
      ],
      "text/plain": [
       "         Unnamed: 0             ID           Age       Overall     Potential  \\\n",
       "count  18207.000000   18207.000000  18207.000000  18207.000000  18207.000000   \n",
       "mean    9103.000000  214298.338606     25.122206     66.238699     71.307299   \n",
       "std     5256.052511   29965.244204      4.669943      6.908930      6.136496   \n",
       "min        0.000000      16.000000     16.000000     46.000000     48.000000   \n",
       "25%     4551.500000  200315.500000     21.000000     62.000000     67.000000   \n",
       "50%     9103.000000  221759.000000     25.000000     66.000000     71.000000   \n",
       "75%    13654.500000  236529.500000     28.000000     71.000000     75.000000   \n",
       "max    18206.000000  246620.000000     45.000000     94.000000     95.000000   \n",
       "\n",
       "              Value          Wage       Special  International Reputation  \\\n",
       "count  18207.000000  18207.000000  18207.000000              18159.000000   \n",
       "mean     265.026929      9.731312   1597.809908                  1.113222   \n",
       "std      289.564928     21.999290    272.586016                  0.394031   \n",
       "min        0.000000      0.000000    731.000000                  1.000000   \n",
       "25%        4.400000      1.000000   1457.000000                  1.000000   \n",
       "50%      160.000000      3.000000   1635.000000                  1.000000   \n",
       "75%      475.000000      9.000000   1787.000000                  1.000000   \n",
       "max      975.000000    565.000000   2346.000000                  5.000000   \n",
       "\n",
       "          Weak Foot       ...           Composure       Marking  \\\n",
       "count  18159.000000       ...        18159.000000  18159.000000   \n",
       "mean       2.947299       ...           58.648274     47.281623   \n",
       "std        0.660456       ...           11.436133     19.904397   \n",
       "min        1.000000       ...            3.000000      3.000000   \n",
       "25%        3.000000       ...           51.000000     30.000000   \n",
       "50%        3.000000       ...           60.000000     53.000000   \n",
       "75%        3.000000       ...           67.000000     64.000000   \n",
       "max        5.000000       ...           96.000000     94.000000   \n",
       "\n",
       "       StandingTackle  SlidingTackle      GKDiving    GKHandling  \\\n",
       "count    18159.000000   18159.000000  18159.000000  18159.000000   \n",
       "mean        47.697836      45.661435     16.616223     16.391596   \n",
       "std         21.664004      21.289135     17.695349     16.906900   \n",
       "min          2.000000       3.000000      1.000000      1.000000   \n",
       "25%         27.000000      24.000000      8.000000      8.000000   \n",
       "50%         55.000000      52.000000     11.000000     11.000000   \n",
       "75%         66.000000      64.000000     14.000000     14.000000   \n",
       "max         93.000000      91.000000     90.000000     92.000000   \n",
       "\n",
       "          GKKicking  GKPositioning    GKReflexes  Release Clause  \n",
       "count  18159.000000   18159.000000  18159.000000    16643.000000  \n",
       "mean      16.232061      16.388898     16.710887      228.201274  \n",
       "std       16.502864      17.034669     17.955119      299.251866  \n",
       "min        1.000000       1.000000      1.000000        1.000000  \n",
       "25%        8.000000       8.000000      8.000000        2.500000  \n",
       "50%       11.000000      11.000000     11.000000       19.800000  \n",
       "75%       14.000000      14.000000     14.000000      431.000000  \n",
       "max       91.000000      90.000000     94.000000      999.000000  \n",
       "\n",
       "[8 rows x 73 columns]"
      ]
     },
     "execution_count": 16,
     "metadata": {},
     "output_type": "execute_result"
    }
   ],
   "source": [
    "df.describe()"
   ]
  },
  {
   "cell_type": "markdown",
   "metadata": {},
   "source": [
    "In order to perform an analysis based on stats, we need to define and group all the positions in the dataset in only 4 categories:\n",
    "- GoalKeeper\n",
    "- Center\n",
    "- Defense\n",
    "- Forward"
   ]
  },
  {
   "cell_type": "markdown",
   "metadata": {},
   "source": [
    "Now that we have our four positions grouped is time to perform a Lasso Analysis to determine which stat has more influence in the categories."
   ]
  },
  {
   "cell_type": "code",
   "execution_count": 18,
   "metadata": {
    "scrolled": true
   },
   "outputs": [
    {
     "data": {
      "text/plain": [
       "array(['RF', 'ST', 'LW', 'GK', 'RCM', 'LF', 'RS', 'RCB', 'LCM', 'CB',\n",
       "       'LDM', 'CAM', 'CDM', 'LS', 'LCB', 'RM', 'LAM', 'LM', 'LB', 'RDM',\n",
       "       'RW', 'CM', 'RB', 'RAM', 'CF', 'RWB', 'LWB', 27], dtype=object)"
      ]
     },
     "execution_count": 18,
     "metadata": {},
     "output_type": "execute_result"
    }
   ],
   "source": [
    "df.Position.unique()"
   ]
  },
  {
   "cell_type": "markdown",
   "metadata": {},
   "source": [
    "We are going to choose attributes and skills of each player."
   ]
  },
  {
   "cell_type": "code",
   "execution_count": 12,
   "metadata": {},
   "outputs": [],
   "source": [
    "df.drop(['Unnamed: 0'], axis=1, inplace=True)"
   ]
  },
  {
   "cell_type": "code",
   "execution_count": 13,
   "metadata": {},
   "outputs": [
    {
     "data": {
      "text/plain": [
       "ID                          False\n",
       "Name                        False\n",
       "Age                         False\n",
       "Photo                       False\n",
       "Nationality                 False\n",
       "Flag                        False\n",
       "Overall                     False\n",
       "Potential                   False\n",
       "Club                         True\n",
       "Club Logo                   False\n",
       "Value                       False\n",
       "Wage                        False\n",
       "Special                     False\n",
       "Preferred Foot               True\n",
       "International Reputation     True\n",
       "Weak Foot                    True\n",
       "Skill Moves                  True\n",
       "Work Rate                    True\n",
       "Body Type                    True\n",
       "Real Face                    True\n",
       "Position                     True\n",
       "Jersey Number                True\n",
       "Joined                       True\n",
       "Loaned From                  True\n",
       "Contract Valid Until         True\n",
       "Height                       True\n",
       "Weight                       True\n",
       "LS                           True\n",
       "ST                           True\n",
       "RS                           True\n",
       "                            ...  \n",
       "Dribbling                    True\n",
       "Curve                        True\n",
       "FKAccuracy                   True\n",
       "LongPassing                  True\n",
       "BallControl                  True\n",
       "Acceleration                 True\n",
       "SprintSpeed                  True\n",
       "Agility                      True\n",
       "Reactions                    True\n",
       "Balance                      True\n",
       "ShotPower                    True\n",
       "Jumping                      True\n",
       "Stamina                      True\n",
       "Strength                     True\n",
       "LongShots                    True\n",
       "Aggression                   True\n",
       "Interceptions                True\n",
       "Positioning                  True\n",
       "Vision                       True\n",
       "Penalties                    True\n",
       "Composure                    True\n",
       "Marking                      True\n",
       "StandingTackle               True\n",
       "SlidingTackle                True\n",
       "GKDiving                     True\n",
       "GKHandling                   True\n",
       "GKKicking                    True\n",
       "GKPositioning                True\n",
       "GKReflexes                   True\n",
       "Release Clause               True\n",
       "Length: 88, dtype: bool"
      ]
     },
     "execution_count": 13,
     "metadata": {},
     "output_type": "execute_result"
    }
   ],
   "source": [
    "df.isna().any()"
   ]
  },
  {
   "cell_type": "code",
   "execution_count": 14,
   "metadata": {},
   "outputs": [],
   "source": [
    "attributes = ['Name','Nationality','Club','Age','Position','Overall','Potential','Preferred Foot','Value']\n",
    "\n",
    "abilities = ['Crossing','Finishing','HeadingAccuracy','ShortPassing','Volleys',\n",
    "             'Dribbling','Curve','FKAccuracy','LongPassing','BallControl',\n",
    "             'Acceleration','SprintSpeed','Agility','Reactions','Balance',\n",
    "             'ShotPower','Jumping','Stamina','Strength','LongShots',\n",
    "             'Aggression','Interceptions','Positioning','Vision','Penalties',\n",
    "             'Composure','Marking','StandingTackle','SlidingTackle']\n",
    "\n",
    "abilities_goalKeeper = ['GKDiving', 'GKHandling', 'GKKicking', 'GKPositioning', 'GKReflexes']"
   ]
  },
  {
   "cell_type": "markdown",
   "metadata": {},
   "source": [
    "We need to perform some changes in some variables in order to have them as float"
   ]
  },
  {
   "cell_type": "markdown",
   "metadata": {},
   "source": [
    "# Statistic Analysis"
   ]
  },
  {
   "cell_type": "markdown",
   "metadata": {},
   "source": [
    "## K-Nearest Neighbors Algorithm "
   ]
  },
  {
   "cell_type": "markdown",
   "metadata": {},
   "source": [
    "The K-nearest neighbors (KNN) algorithm is a type of supervised machine learning algorithms. KNN is extremely easy to implement in its most basic form, and yet performs quite complex classification tasks. It is a lazy learning algorithm since it doesn't have a specialized training phase. Rather, it uses all of the data for training while classifying a new data point or instance. KNN is a non-parametric learning algorithm, which means that it doesn't assume anything about the underlying data. This is an extremely useful feature since most of the real world data doesn't really follow any theoretical assumption e.g. linear-separability, uniform distribution, etc.\n",
    "\n",
    "In this article, we will see how KNN can be implemented with Python's Scikit-Learn library. But before that let's first explore the theory behind KNN and see what are some of the pros and cons of the algorithm.\n",
    "\n",
    "**Theory**\n",
    "\n",
    "The intuition behind the KNN algorithm is one of the simplest of all the supervised machine learning algorithms. It simply calculates the distance of a new data point to all other training data points. The distance can be of any type e.g Euclidean or Manhattan etc. It then selects the K-nearest data points, where K can be any integer. Finally it assigns the data point to the class to which the majority of the K data points belong.\n",
    "\n",
    "Let's see this algorithm in action with the help of a simple example. Suppose you have a dataset with two variables, which when plotted, looks like the one in the following figure.\n",
    "https://stackabuse.com/k-nearest-neighbors-algorithm-in-python-and-scikit-learn/"
   ]
  },
  {
   "cell_type": "code",
   "execution_count": 54,
   "metadata": {},
   "outputs": [
    {
     "data": {
      "text/html": [
       "<img src=\"http://i63.tinypic.com/29dgroj.jpg\"/>"
      ],
      "text/plain": [
       "<IPython.core.display.Image object>"
      ]
     },
     "execution_count": 54,
     "metadata": {},
     "output_type": "execute_result"
    }
   ],
   "source": [
    "Image(url='http://i63.tinypic.com/29dgroj.jpg')"
   ]
  },
  {
   "cell_type": "markdown",
   "metadata": {},
   "source": [
    "Datapoint plot\n",
    "\n",
    "Your task is to classify a new data point with 'X' into \"Blue\" class or \"Red\" class. The coordinate values of the data point are x=45 and y=50. Suppose the value of K is 3. The KNN algorithm starts by calculating the distance of point X from all the points. It then finds the 3 nearest points with least distance to point X. This is shown in the figure below. The three nearest points have been encircled.\n"
   ]
  },
  {
   "cell_type": "code",
   "execution_count": 12,
   "metadata": {},
   "outputs": [
    {
     "data": {
      "text/html": [
       "<img src=\"http://i67.tinypic.com/34gszdi.png\"/>"
      ],
      "text/plain": [
       "<IPython.core.display.Image object>"
      ]
     },
     "execution_count": 12,
     "metadata": {},
     "output_type": "execute_result"
    }
   ],
   "source": [
    "Image(url='http://i67.tinypic.com/34gszdi.png')"
   ]
  },
  {
   "cell_type": "markdown",
   "metadata": {},
   "source": [
    "Datapoint plot circled\n",
    "\n",
    "The final step of the KNN algorithm is to assign new point to the class to which majority of the three nearest points belong. From the figure above we can see that the two of the three nearest points belong to the class \"Red\" while one belongs to the class \"Blue\". Therefore the new data point will be classified as \"Red\".\n",
    "\n",
    "**Pros and Cons of KNN**\n",
    "In this section we'll present some of the pros and cons of using the KNN algorithm.\n",
    "\n",
    "***Pros***\n",
    "\n",
    "1-It is extremely easy to implement.\n",
    "2-As said earlier, it is lazy learning algorithm and therefore requires no training prior to making real time predictions. This makes the KNN algorithm much faster than other algorithms that require training e.g SVM, linear regression, etc.\n",
    "3-Since the algorithm requires no training before making predictions, new data can be added seamlessly.\n",
    "4-There are only two parameters required to implement KNN i.e. the value of K and the distance function (e.g. Euclidean or Manhattan etc.)\n",
    "\n",
    "***Cons***\n",
    "1-The KNN algorithm doesn't work well with high dimensional data because with large number of dimensions, it becomes difficult for the algorithm to calculate distance in each dimension.\n",
    "2-The KNN algorithm has a high prediction cost for large datasets. This is because in large datasets the cost of calculating distance between new point and each existing point becomes higher.\n",
    "3-Finally, the KNN algorithm doesn't work well with categorical features since it is difficult to find the distance between dimensions with categorical features.\n",
    "Implementing KNN Algorithm with Scikit-Learn\n",
    "In this section, we will see how Python's Scikit-Learn library can be used to implement the KNN algorithm in less than 20 lines of code. The download and installation instructions for Scikit learn library are available at here.\n",
    "\n",
    "**Conclusion**\n",
    "KNN is a simple yet powerful classification algorithm. It requires no training for making predictions, which is typically one of the most difficult parts of a machine learning algorithm. The KNN algorithm have been widely used to find document similarity and pattern recognition. It has also been employed for developing recommender systems and for dimensionality reduction and pre-processing steps for computer vision, particularly face recognition tasks.\n",
    "\n",
    "\n",
    "\n",
    "Poner imagenes"
   ]
  },
  {
   "cell_type": "markdown",
   "metadata": {},
   "source": [
    "Our KNN model will be based on *Wage* and *Overall*. Using these variables our nearest neighbor will be a top 10 players with similar stats.\n",
    "\n",
    "The interesting part of this project is to use a example. If we make a petition to see the top 5/10 replacements of Messi or Ronaldo we will know what they are without using this application but if we choose an unknown player we will see a top 5/10 without any problem. In the case of teams as Getafe or Crystal Palace in the premier league finding a substitute for a specific field position is a difficult job. Using this application and choosing the name of the player will show the perfect substitutes.\n",
    "\n",
    "This project will be using the KNN algorithm, the substitute players will be internally represented in a 2-Dimensions plot and the observations will be introduced under a distance criteria. This will show a Dash-Table of 10 substitutes as well as a Spyder-Chart with 29 stats of the top 5.\n",
    "\n"
   ]
  },
  {
   "cell_type": "markdown",
   "metadata": {},
   "source": [
    "Firsly we define the positions. We prefer not to group them in four groups so the algorithm will loop through the selected positions."
   ]
  },
  {
   "cell_type": "code",
   "execution_count": 15,
   "metadata": {},
   "outputs": [],
   "source": [
    "dictionary = {\"Position\": {\"GoalKeeper\": 0, \"Defense\": 1, 'Center' : 2, 'Forward' : 3, 'No position' : 4}}\n",
    "dic_dos = {'Position': {'LS' : 0,'ST' : 1,'RS' : 2,'LW' : 3,'LF' : 4,'CF' : 5,'RF' : 6,'RW': 7,'LAM': 8,'CAM':9,'RAM':10,'LM':11,\n",
    "                        'LCM' : 12,'CM': 13,'RCM' : 14,'RM': 15,'LWB':16,'LDM':17,'CDM':18,'RDM':19,'RWB':20,\n",
    "                        'LB' : 21,'LCB' :22,'CB' : 23,'RCB' : 24,'RB' : 25, 'GK' : 26}}"
   ]
  },
  {
   "cell_type": "code",
   "execution_count": 16,
   "metadata": {},
   "outputs": [],
   "source": [
    "#Los reemplazamos en el DataFrame\n",
    "df.replace(dic_dos, inplace=True)"
   ]
  },
  {
   "cell_type": "markdown",
   "metadata": {},
   "source": [
    "We have to fill missing values with the value 27 so we can filter later in Dash-Application using this value. Our categories have to be integers."
   ]
  },
  {
   "cell_type": "code",
   "execution_count": 17,
   "metadata": {},
   "outputs": [
    {
     "data": {
      "text/plain": [
       "0     6\n",
       "1     1\n",
       "2     3\n",
       "3    26\n",
       "4    14\n",
       "5     4\n",
       "6    14\n",
       "7     2\n",
       "8    24\n",
       "9    26\n",
       "Name: Position, dtype: int32"
      ]
     },
     "execution_count": 17,
     "metadata": {},
     "output_type": "execute_result"
    }
   ],
   "source": [
    "df.Position.fillna(27, inplace=True)\n",
    "df['Position'].astype(int).head(10)"
   ]
  },
  {
   "cell_type": "markdown",
   "metadata": {},
   "source": [
    "We build our model based on Overall and Wage."
   ]
  },
  {
   "cell_type": "code",
   "execution_count": 18,
   "metadata": {},
   "outputs": [],
   "source": [
    "model_variables_test = ['Overall','Wage']"
   ]
  },
  {
   "cell_type": "code",
   "execution_count": 19,
   "metadata": {},
   "outputs": [
    {
     "name": "stderr",
     "output_type": "stream",
     "text": [
      "C:\\Users\\llera\\Anaconda3\\lib\\site-packages\\pandas\\core\\frame.py:3790: SettingWithCopyWarning: \n",
      "A value is trying to be set on a copy of a slice from a DataFrame\n",
      "\n",
      "See the caveats in the documentation: http://pandas.pydata.org/pandas-docs/stable/indexing.html#indexing-view-versus-copy\n",
      "  downcast=downcast, **kwargs)\n"
     ]
    }
   ],
   "source": [
    "X = df[model_variables_test]\n",
    "y = df.Position\n",
    "\n",
    "X.fillna(0, inplace=True)"
   ]
  },
  {
   "cell_type": "markdown",
   "metadata": {},
   "source": [
    "We classify the players using the KNN algorithm"
   ]
  },
  {
   "cell_type": "code",
   "execution_count": 20,
   "metadata": {
    "scrolled": true
   },
   "outputs": [
    {
     "data": {
      "text/plain": [
       "KNeighborsClassifier(algorithm='auto', leaf_size=30, metric='minkowski',\n",
       "           metric_params=None, n_jobs=1, n_neighbors=6, p=2,\n",
       "           weights='distance')"
      ]
     },
     "execution_count": 20,
     "metadata": {},
     "output_type": "execute_result"
    }
   ],
   "source": [
    "n_neighbors = 6\n",
    "clf = neighbors.KNeighborsClassifier(n_neighbors, weights='distance')\n",
    "clf.fit(X, y)"
   ]
  },
  {
   "cell_type": "markdown",
   "metadata": {},
   "source": [
    "First we have to make sure we select the correct number of neighbors for the algorithm."
   ]
  },
  {
   "cell_type": "code",
   "execution_count": 21,
   "metadata": {},
   "outputs": [],
   "source": [
    "from sklearn.neighbors import KNeighborsClassifier"
   ]
  },
  {
   "cell_type": "markdown",
   "metadata": {},
   "source": [
    "The plot will show that."
   ]
  },
  {
   "cell_type": "code",
   "execution_count": 22,
   "metadata": {
    "scrolled": true
   },
   "outputs": [
    {
     "data": {
      "text/plain": [
       "([<matplotlib.axis.XTick at 0x17bc8edff28>,\n",
       "  <matplotlib.axis.XTick at 0x17bc8edf860>,\n",
       "  <matplotlib.axis.XTick at 0x17bc8edf5c0>,\n",
       "  <matplotlib.axis.XTick at 0x17bc9174518>,\n",
       "  <matplotlib.axis.XTick at 0x17bc91749b0>],\n",
       " <a list of 5 Text xticklabel objects>)"
      ]
     },
     "execution_count": 22,
     "metadata": {},
     "output_type": "execute_result"
    },
    {
     "data": {
      "image/png": "[encoded data removed]",
      "text/plain": [
       "<Figure size 432x288 with 1 Axes>"
      ]
     },
     "metadata": {
      "needs_background": "light"
     },
     "output_type": "display_data"
    }
   ],
   "source": [
    "k_range = range(1, 20)\n",
    "scores = []\n",
    "for k in k_range:\n",
    "    knn = KNeighborsClassifier(n_neighbors = k)\n",
    "    knn.fit(X, y)\n",
    "    scores.append(knn.score(X, y))\n",
    "plt.figure()\n",
    "plt.xlabel('k')\n",
    "# plt.ylabel('accuracy')\n",
    "plt.scatter(k_range, scores)\n",
    "plt.xticks([0,5,10,15,20])\n"
   ]
  },
  {
   "cell_type": "markdown",
   "metadata": {},
   "source": [
    "If we choose Messi as a test the algorithm will find the field position which is 'RF'."
   ]
  },
  {
   "cell_type": "code",
   "execution_count": 34,
   "metadata": {},
   "outputs": [
    {
     "data": {
      "text/plain": [
       "'RF'"
      ]
     },
     "execution_count": 34,
     "metadata": {},
     "output_type": "execute_result"
    }
   ],
   "source": [
    "#Overall, Wage\n",
    "misVar = ['LS','ST','RS','LW','LF','CF','RF','RW','LAM','CAM','RAM','LM','LCM','CM','RCM',\n",
    "                   'RM','LWB','LDM','CDM','RDM','RWB','LB','LCB','CB','RCB','RB', 'GK']\n",
    "\n",
    "overallMessi = df[df.Name == 'L. Messi'].Overall.iloc[0]\n",
    "wageMessi = df[df.Name == 'L. Messi'].Wage.iloc[0]\n",
    "\n",
    "#dataClass = clf.predict([[55,96]])\n",
    "dataClass = clf.predict([[overallMessi, wageMessi]])\n",
    "posicion = 0\n",
    "\n",
    "for i in range(1, 27):\n",
    "    if dataClass == i:\n",
    "        posicion = misVar[i]\n",
    "\n",
    "posicion"
   ]
  },
  {
   "cell_type": "markdown",
   "metadata": {},
   "source": [
    "We have to use the first position of the array dataClass which is an integer defining the field position."
   ]
  },
  {
   "cell_type": "code",
   "execution_count": 35,
   "metadata": {
    "scrolled": true
   },
   "outputs": [
    {
     "data": {
      "text/plain": [
       "6"
      ]
     },
     "execution_count": 35,
     "metadata": {},
     "output_type": "execute_result"
    }
   ],
   "source": [
    "int(dataClass[0])"
   ]
  },
  {
   "cell_type": "code",
   "execution_count": 36,
   "metadata": {},
   "outputs": [
    {
     "data": {
      "text/plain": [
       "0          L. Messi\n",
       "50       D. Mertens\n",
       "528       D. Valeri\n",
       "890     L. Podolski\n",
       "1774       C. Ciano\n",
       "Name: Name, dtype: object"
      ]
     },
     "execution_count": 36,
     "metadata": {},
     "output_type": "execute_result"
    }
   ],
   "source": [
    "filtro = df.Wage < df[df.Name == 'L. Messi'].Wage.iloc[0] + 50\n",
    "filtro2 = df.Position == dataClass[0]\n",
    "\n",
    "df[(filtro2 & filtro)]['Name'].iloc[0:5]"
   ]
  },
  {
   "cell_type": "markdown",
   "metadata": {},
   "source": [
    "These are the top 5 substitutes for Messi based on Overall, field position and wage.\n",
    "\n",
    "- 1 - L. Messi\n",
    "- 2 - D. Mertens\n",
    "- 3 - D. Valeri\n",
    "- 4 - L. Podolski\n",
    "- 5 - C. Ciano"
   ]
  },
  {
   "cell_type": "markdown",
   "metadata": {},
   "source": [
    "We can try with a more different and unknown player."
   ]
  },
  {
   "cell_type": "code",
   "execution_count": 38,
   "metadata": {},
   "outputs": [],
   "source": [
    "overallMCoco = df[df.Name == 'M. Coco'].Overall.iloc[0]\n",
    "wageMCoco= df[df.Name == 'M. Coco'].Wage.iloc[0]\n",
    "\n",
    "dataClass = clf.predict([[overallMCoco, wageMCoco]])"
   ]
  },
  {
   "cell_type": "code",
   "execution_count": 39,
   "metadata": {},
   "outputs": [
    {
     "data": {
      "text/plain": [
       "288          Marlos\n",
       "371       J. Corona\n",
       "555    V. Tsygankov\n",
       "558        Raphinha\n",
       "602          Otávio\n",
       "Name: Name, dtype: object"
      ]
     },
     "execution_count": 39,
     "metadata": {},
     "output_type": "execute_result"
    }
   ],
   "source": [
    "filtro = df.Wage < df[df.Name == 'M. Coco'].Wage.iloc[0] \n",
    "filtro2 = df.Position == dataClass[0]\n",
    "\n",
    "df[(filtro2 & filtro)]['Name'].iloc[0:5]"
   ]
  },
  {
   "cell_type": "markdown",
   "metadata": {},
   "source": [
    "As we see the results are so different depending on the name."
   ]
  },
  {
   "cell_type": "code",
   "execution_count": 26,
   "metadata": {
    "scrolled": true
   },
   "outputs": [
    {
     "data": {
      "text/plain": [
       "0          L. Messi\n",
       "50       D. Mertens\n",
       "528       D. Valeri\n",
       "890     L. Podolski\n",
       "1774       C. Ciano\n",
       "Name: Name, dtype: object"
      ]
     },
     "execution_count": 26,
     "metadata": {},
     "output_type": "execute_result"
    }
   ],
   "source": [
    "df[df.Position == dataClass[0]]['Name'].iloc[0:5]"
   ]
  },
  {
   "cell_type": "code",
   "execution_count": 60,
   "metadata": {
    "scrolled": false
   },
   "outputs": [
    {
     "data": {
      "text/html": [
       "<img src=\"http://i63.tinypic.com/29o3myr.jpg\" width=\"500\"/>"
      ],
      "text/plain": [
       "<IPython.core.display.Image object>"
      ]
     },
     "execution_count": 60,
     "metadata": {},
     "output_type": "execute_result"
    }
   ],
   "source": [
    "Image(url='http://i63.tinypic.com/29o3myr.jpg',width=500)"
   ]
  },
  {
   "cell_type": "markdown",
   "metadata": {},
   "source": [
    "# Conclusiones"
   ]
  },
  {
   "cell_type": "markdown",
   "metadata": {},
   "source": [
    "- Business problem\n",
    "\n",
    "Thanks to this project teams will be able to save costs, especially for teams which are smaller since they can save money and time building the perfect team.\n",
    "\n",
    "Another business opportunity will be the top 10 player sale for a specific field position in FIFA Ultimate Team for example.\n",
    "\n",
    "- Programming language\n",
    "\n",
    "We have used Python 3 implemented on Spyder to visualize the data and be able to interact with it. We used **Heroku Cloud** to deploy the project to be able to see directly on the internet.\n",
    "\n",
    "The source code of the project will be in Github under **Alvaro Ferro** or **Luis LLera** repositories.\n",
    "\n",
    "- Statistical Analysis\n",
    "\n",
    "Through the KNN model implemented in a visualization application we were able to make a comparative between a player chosen by the user and the top 10 substitutes based on field, overall and wage. Through the Spyder chart we show 29 stats for the top 5 players.\n",
    "\n",
    "**In case the player is a GoalKeeper the stats will be modified and shown to this field position**\n",
    "\n",
    "\n",
    "- Communication of results and visualization\n",
    "\n",
    "For the communication of results we used Dash, which is the visualization application for Python showing a table with the top 10 and the Spyder chart with the top 5.\n",
    "\n",
    "**THE FINAL APPLICATION WAS DEPLOYED TO HEROKU CLOUD**\n",
    "https://dash-fifa-knn.herokuapp.com/\n",
    "\n",
    "**THE SOURCE CODE CAN BE FOUND ON**\n",
    "https://github.com/AlvaroFerro/MachineLearning/tree/master/Dash-Python\n"
   ]
  },
  {
   "cell_type": "markdown",
   "metadata": {},
   "source": [
    "# Final overview of the application"
   ]
  },
  {
   "cell_type": "markdown",
   "metadata": {},
   "source": [
    "## Introduction"
   ]
  },
  {
   "cell_type": "code",
   "execution_count": 19,
   "metadata": {},
   "outputs": [
    {
     "data": {
      "text/html": [
       "<img src=\"http://i65.tinypic.com/2l92uec.jpg\" width=\"500\"/>"
      ],
      "text/plain": [
       "<IPython.core.display.Image object>"
      ]
     },
     "execution_count": 19,
     "metadata": {},
     "output_type": "execute_result"
    }
   ],
   "source": [
    "Image(url='http://i65.tinypic.com/2l92uec.jpg', width = 500)"
   ]
  },
  {
   "cell_type": "markdown",
   "metadata": {},
   "source": [
    "## K-NN Algorithm - Table"
   ]
  },
  {
   "cell_type": "code",
   "execution_count": 21,
   "metadata": {},
   "outputs": [
    {
     "data": {
      "text/html": [
       "<img src=\"http://i63.tinypic.com/2pphs0h.jpg\" width=\"1000\"/>"
      ],
      "text/plain": [
       "<IPython.core.display.Image object>"
      ]
     },
     "execution_count": 21,
     "metadata": {},
     "output_type": "execute_result"
    }
   ],
   "source": [
    "Image(url='http://i63.tinypic.com/2pphs0h.jpg', width = 1000)"
   ]
  },
  {
   "cell_type": "code",
   "execution_count": 28,
   "metadata": {},
   "outputs": [
    {
     "data": {
      "text/html": [
       "<img src=\"http://i63.tinypic.com/oshjcj.jpg\" width=\"1000\"/>"
      ],
      "text/plain": [
       "<IPython.core.display.Image object>"
      ]
     },
     "execution_count": 28,
     "metadata": {},
     "output_type": "execute_result"
    }
   ],
   "source": [
    "Image(url='http://i63.tinypic.com/oshjcj.jpg', width = 1000)"
   ]
  },
  {
   "cell_type": "markdown",
   "metadata": {},
   "source": [
    "## K-NN Algorithm - Spyder Chart"
   ]
  },
  {
   "cell_type": "code",
   "execution_count": 24,
   "metadata": {},
   "outputs": [
    {
     "data": {
      "text/html": [
       "<img src=\"http://i67.tinypic.com/22x6c.jpg\" width=\"750\"/>"
      ],
      "text/plain": [
       "<IPython.core.display.Image object>"
      ]
     },
     "execution_count": 24,
     "metadata": {},
     "output_type": "execute_result"
    }
   ],
   "source": [
    "Image(url='http://i67.tinypic.com/22x6c.jpg', width = 750)"
   ]
  },
  {
   "cell_type": "code",
   "execution_count": 26,
   "metadata": {},
   "outputs": [
    {
     "data": {
      "text/html": [
       "<img src=\"http://i65.tinypic.com/ezpp4k.jpg\" width=\"750\"/>"
      ],
      "text/plain": [
       "<IPython.core.display.Image object>"
      ]
     },
     "execution_count": 26,
     "metadata": {},
     "output_type": "execute_result"
    }
   ],
   "source": [
    "Image(url='http://i65.tinypic.com/ezpp4k.jpg', width = 750)"
   ]
  },
  {
   "cell_type": "code",
   "execution_count": 27,
   "metadata": {},
   "outputs": [
    {
     "data": {
      "text/html": [
       "<img src=\"http://i63.tinypic.com/33469op.jpg\" width=\"750\"/>"
      ],
      "text/plain": [
       "<IPython.core.display.Image object>"
      ]
     },
     "execution_count": 27,
     "metadata": {},
     "output_type": "execute_result"
    }
   ],
   "source": [
    "Image(url='http://i63.tinypic.com/33469op.jpg', width = 750)"
   ]
  },
  {
   "cell_type": "markdown",
   "metadata": {},
   "source": [
    "## Authors"
   ]
  },
  {
   "cell_type": "code",
   "execution_count": 32,
   "metadata": {},
   "outputs": [
    {
     "data": {
      "text/html": [
       "<img src=\"http://i66.tinypic.com/2pq1f9d.jpg\" width=\"1000\"/>"
      ],
      "text/plain": [
       "<IPython.core.display.Image object>"
      ]
     },
     "execution_count": 32,
     "metadata": {},
     "output_type": "execute_result"
    }
   ],
   "source": [
    "Image(url='http://i66.tinypic.com/2pq1f9d.jpg',width=1000)"
   ]
  }
 ],
 "metadata": {
  "kernelspec": {
   "display_name": "Python 3",
   "language": "python",
   "name": "python3"
  },
  "language_info": {
   "codemirror_mode": {
    "name": "ipython",
    "version": 3
   },
   "file_extension": ".py",
   "mimetype": "text/x-python",
   "name": "python",
   "nbconvert_exporter": "python",
   "pygments_lexer": "ipython3",
   "version": "3.7.2"
  },
  "toc": {
   "base_numbering": 1,
   "nav_menu": {},
   "number_sections": true,
   "sideBar": true,
   "skip_h1_title": false,
   "title_cell": "Table of Contents",
   "title_sidebar": "Contents",
   "toc_cell": false,
   "toc_position": {},
   "toc_section_display": true,
   "toc_window_display": false
  }
 },
 "nbformat": 4,
 "nbformat_minor": 2
}
